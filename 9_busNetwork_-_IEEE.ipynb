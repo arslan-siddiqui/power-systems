{
 "cells": [
  {
   "cell_type": "code",
   "execution_count": 1,
   "metadata": {},
   "outputs": [],
   "source": [
    "import numpy as np\n",
    "import pandas as pd\n",
    "\n",
    "import pypsa"
   ]
  },
  {
   "cell_type": "code",
   "execution_count": 264,
   "metadata": {},
   "outputs": [],
   "source": [
    "del(grid)"
   ]
  },
  {
   "cell_type": "code",
   "execution_count": 265,
   "metadata": {},
   "outputs": [],
   "source": [
    "grid = pypsa.Network(name='WECC 3-machine, 9-bus system')"
   ]
  },
  {
   "cell_type": "code",
   "execution_count": 266,
   "metadata": {},
   "outputs": [],
   "source": [
    "S_default=1 # MVA\n",
    "\n",
    "S_base=100 # MVA\n",
    "V_base=230 # kV\n",
    "\n",
    "Z_base=(V_base**2)/S_base # Ohm"
   ]
  },
  {
   "cell_type": "code",
   "execution_count": 267,
   "metadata": {},
   "outputs": [
    {
     "data": {
      "application/vnd.microsoft.datawrangler.viewer.v0+json": {
       "columns": [
        {
         "name": "Bus",
         "rawType": "object",
         "type": "string"
        },
        {
         "name": "v_nom",
         "rawType": "float64",
         "type": "float"
        },
        {
         "name": "type",
         "rawType": "object",
         "type": "string"
        },
        {
         "name": "x",
         "rawType": "float64",
         "type": "float"
        },
        {
         "name": "y",
         "rawType": "float64",
         "type": "float"
        },
        {
         "name": "carrier",
         "rawType": "object",
         "type": "string"
        },
        {
         "name": "unit",
         "rawType": "object",
         "type": "string"
        },
        {
         "name": "v_mag_pu_set",
         "rawType": "float64",
         "type": "float"
        },
        {
         "name": "v_mag_pu_min",
         "rawType": "float64",
         "type": "float"
        },
        {
         "name": "v_mag_pu_max",
         "rawType": "float64",
         "type": "float"
        },
        {
         "name": "control",
         "rawType": "object",
         "type": "string"
        },
        {
         "name": "generator",
         "rawType": "object",
         "type": "string"
        },
        {
         "name": "sub_network",
         "rawType": "object",
         "type": "string"
        }
       ],
       "ref": "c400a303-46af-4fa8-81e9-836af7d26b94",
       "rows": [
        [
         "Bus 1",
         "16.5",
         "",
         "0.0",
         "0.0",
         "AC",
         "",
         "1.04",
         "0.0",
         "inf",
         "Slack",
         "",
         ""
        ],
        [
         "Bus 2",
         "18.0",
         "",
         "0.0",
         "0.0",
         "AC",
         "",
         "1.025",
         "0.0",
         "inf",
         "PV",
         "",
         ""
        ],
        [
         "Bus 3",
         "13.8",
         "",
         "0.0",
         "0.0",
         "AC",
         "",
         "1.025",
         "0.0",
         "inf",
         "PV",
         "",
         ""
        ],
        [
         "Bus 4",
         "230.0",
         "",
         "0.0",
         "0.0",
         "AC",
         "",
         "1.0",
         "0.0",
         "inf",
         "PQ",
         "",
         ""
        ],
        [
         "Bus 5",
         "230.0",
         "",
         "0.0",
         "0.0",
         "AC",
         "",
         "1.0",
         "0.0",
         "inf",
         "PQ",
         "",
         ""
        ],
        [
         "Bus 6",
         "230.0",
         "",
         "0.0",
         "0.0",
         "AC",
         "",
         "1.0",
         "0.0",
         "inf",
         "PQ",
         "",
         ""
        ],
        [
         "Bus 7",
         "230.0",
         "",
         "0.0",
         "0.0",
         "AC",
         "",
         "1.0",
         "0.0",
         "inf",
         "PQ",
         "",
         ""
        ],
        [
         "Bus 8",
         "230.0",
         "",
         "0.0",
         "0.0",
         "AC",
         "",
         "1.0",
         "0.0",
         "inf",
         "PQ",
         "",
         ""
        ],
        [
         "Bus 9",
         "230.0",
         "",
         "0.0",
         "0.0",
         "AC",
         "",
         "1.0",
         "0.0",
         "inf",
         "PQ",
         "",
         ""
        ]
       ],
       "shape": {
        "columns": 12,
        "rows": 9
       }
      },
      "text/html": [
       "<div>\n",
       "<style scoped>\n",
       "    .dataframe tbody tr th:only-of-type {\n",
       "        vertical-align: middle;\n",
       "    }\n",
       "\n",
       "    .dataframe tbody tr th {\n",
       "        vertical-align: top;\n",
       "    }\n",
       "\n",
       "    .dataframe thead th {\n",
       "        text-align: right;\n",
       "    }\n",
       "</style>\n",
       "<table border=\"1\" class=\"dataframe\">\n",
       "  <thead>\n",
       "    <tr style=\"text-align: right;\">\n",
       "      <th></th>\n",
       "      <th>v_nom</th>\n",
       "      <th>type</th>\n",
       "      <th>x</th>\n",
       "      <th>y</th>\n",
       "      <th>carrier</th>\n",
       "      <th>unit</th>\n",
       "      <th>v_mag_pu_set</th>\n",
       "      <th>v_mag_pu_min</th>\n",
       "      <th>v_mag_pu_max</th>\n",
       "      <th>control</th>\n",
       "      <th>generator</th>\n",
       "      <th>sub_network</th>\n",
       "    </tr>\n",
       "    <tr>\n",
       "      <th>Bus</th>\n",
       "      <th></th>\n",
       "      <th></th>\n",
       "      <th></th>\n",
       "      <th></th>\n",
       "      <th></th>\n",
       "      <th></th>\n",
       "      <th></th>\n",
       "      <th></th>\n",
       "      <th></th>\n",
       "      <th></th>\n",
       "      <th></th>\n",
       "      <th></th>\n",
       "    </tr>\n",
       "  </thead>\n",
       "  <tbody>\n",
       "    <tr>\n",
       "      <th>Bus 1</th>\n",
       "      <td>16.5</td>\n",
       "      <td></td>\n",
       "      <td>0.0</td>\n",
       "      <td>0.0</td>\n",
       "      <td>AC</td>\n",
       "      <td></td>\n",
       "      <td>1.040</td>\n",
       "      <td>0.0</td>\n",
       "      <td>inf</td>\n",
       "      <td>Slack</td>\n",
       "      <td></td>\n",
       "      <td></td>\n",
       "    </tr>\n",
       "    <tr>\n",
       "      <th>Bus 2</th>\n",
       "      <td>18.0</td>\n",
       "      <td></td>\n",
       "      <td>0.0</td>\n",
       "      <td>0.0</td>\n",
       "      <td>AC</td>\n",
       "      <td></td>\n",
       "      <td>1.025</td>\n",
       "      <td>0.0</td>\n",
       "      <td>inf</td>\n",
       "      <td>PV</td>\n",
       "      <td></td>\n",
       "      <td></td>\n",
       "    </tr>\n",
       "    <tr>\n",
       "      <th>Bus 3</th>\n",
       "      <td>13.8</td>\n",
       "      <td></td>\n",
       "      <td>0.0</td>\n",
       "      <td>0.0</td>\n",
       "      <td>AC</td>\n",
       "      <td></td>\n",
       "      <td>1.025</td>\n",
       "      <td>0.0</td>\n",
       "      <td>inf</td>\n",
       "      <td>PV</td>\n",
       "      <td></td>\n",
       "      <td></td>\n",
       "    </tr>\n",
       "    <tr>\n",
       "      <th>Bus 4</th>\n",
       "      <td>230.0</td>\n",
       "      <td></td>\n",
       "      <td>0.0</td>\n",
       "      <td>0.0</td>\n",
       "      <td>AC</td>\n",
       "      <td></td>\n",
       "      <td>1.000</td>\n",
       "      <td>0.0</td>\n",
       "      <td>inf</td>\n",
       "      <td>PQ</td>\n",
       "      <td></td>\n",
       "      <td></td>\n",
       "    </tr>\n",
       "    <tr>\n",
       "      <th>Bus 5</th>\n",
       "      <td>230.0</td>\n",
       "      <td></td>\n",
       "      <td>0.0</td>\n",
       "      <td>0.0</td>\n",
       "      <td>AC</td>\n",
       "      <td></td>\n",
       "      <td>1.000</td>\n",
       "      <td>0.0</td>\n",
       "      <td>inf</td>\n",
       "      <td>PQ</td>\n",
       "      <td></td>\n",
       "      <td></td>\n",
       "    </tr>\n",
       "    <tr>\n",
       "      <th>Bus 6</th>\n",
       "      <td>230.0</td>\n",
       "      <td></td>\n",
       "      <td>0.0</td>\n",
       "      <td>0.0</td>\n",
       "      <td>AC</td>\n",
       "      <td></td>\n",
       "      <td>1.000</td>\n",
       "      <td>0.0</td>\n",
       "      <td>inf</td>\n",
       "      <td>PQ</td>\n",
       "      <td></td>\n",
       "      <td></td>\n",
       "    </tr>\n",
       "    <tr>\n",
       "      <th>Bus 7</th>\n",
       "      <td>230.0</td>\n",
       "      <td></td>\n",
       "      <td>0.0</td>\n",
       "      <td>0.0</td>\n",
       "      <td>AC</td>\n",
       "      <td></td>\n",
       "      <td>1.000</td>\n",
       "      <td>0.0</td>\n",
       "      <td>inf</td>\n",
       "      <td>PQ</td>\n",
       "      <td></td>\n",
       "      <td></td>\n",
       "    </tr>\n",
       "    <tr>\n",
       "      <th>Bus 8</th>\n",
       "      <td>230.0</td>\n",
       "      <td></td>\n",
       "      <td>0.0</td>\n",
       "      <td>0.0</td>\n",
       "      <td>AC</td>\n",
       "      <td></td>\n",
       "      <td>1.000</td>\n",
       "      <td>0.0</td>\n",
       "      <td>inf</td>\n",
       "      <td>PQ</td>\n",
       "      <td></td>\n",
       "      <td></td>\n",
       "    </tr>\n",
       "    <tr>\n",
       "      <th>Bus 9</th>\n",
       "      <td>230.0</td>\n",
       "      <td></td>\n",
       "      <td>0.0</td>\n",
       "      <td>0.0</td>\n",
       "      <td>AC</td>\n",
       "      <td></td>\n",
       "      <td>1.000</td>\n",
       "      <td>0.0</td>\n",
       "      <td>inf</td>\n",
       "      <td>PQ</td>\n",
       "      <td></td>\n",
       "      <td></td>\n",
       "    </tr>\n",
       "  </tbody>\n",
       "</table>\n",
       "</div>"
      ],
      "text/plain": [
       "       v_nom type    x    y carrier unit  v_mag_pu_set  v_mag_pu_min  \\\n",
       "Bus                                                                    \n",
       "Bus 1   16.5       0.0  0.0      AC              1.040           0.0   \n",
       "Bus 2   18.0       0.0  0.0      AC              1.025           0.0   \n",
       "Bus 3   13.8       0.0  0.0      AC              1.025           0.0   \n",
       "Bus 4  230.0       0.0  0.0      AC              1.000           0.0   \n",
       "Bus 5  230.0       0.0  0.0      AC              1.000           0.0   \n",
       "Bus 6  230.0       0.0  0.0      AC              1.000           0.0   \n",
       "Bus 7  230.0       0.0  0.0      AC              1.000           0.0   \n",
       "Bus 8  230.0       0.0  0.0      AC              1.000           0.0   \n",
       "Bus 9  230.0       0.0  0.0      AC              1.000           0.0   \n",
       "\n",
       "       v_mag_pu_max control generator sub_network  \n",
       "Bus                                                \n",
       "Bus 1           inf   Slack                        \n",
       "Bus 2           inf      PV                        \n",
       "Bus 3           inf      PV                        \n",
       "Bus 4           inf      PQ                        \n",
       "Bus 5           inf      PQ                        \n",
       "Bus 6           inf      PQ                        \n",
       "Bus 7           inf      PQ                        \n",
       "Bus 8           inf      PQ                        \n",
       "Bus 9           inf      PQ                        "
      ]
     },
     "execution_count": 267,
     "metadata": {},
     "output_type": "execute_result"
    }
   ],
   "source": [
    "grid.add(\"Bus\", \"Bus 1\", v_nom=16.5, v_mag_pu_set= 1.04, control=\"Slack\")\n",
    "grid.add(\"Bus\", \"Bus 2\", v_nom=18.0, v_mag_pu_set= 1.025, control=\"PV\")\n",
    "grid.add(\"Bus\", \"Bus 3\", v_nom=13.8, v_mag_pu_set= 1.025, control=\"PV\")\n",
    "grid.add(\"Bus\", \"Bus 4\", v_nom=V_base)\n",
    "grid.add(\"Bus\", \"Bus 5\", v_nom=V_base, control=\"PQ\")\n",
    "grid.add(\"Bus\", \"Bus 6\", v_nom=V_base, control=\"PQ\")\n",
    "grid.add(\"Bus\", \"Bus 7\", v_nom=V_base)\n",
    "grid.add(\"Bus\", \"Bus 8\", v_nom=V_base, control=\"PQ\")\n",
    "grid.add(\"Bus\", \"Bus 9\", v_nom=V_base)\n",
    "\n",
    "grid.buses"
   ]
  },
  {
   "cell_type": "code",
   "execution_count": 268,
   "metadata": {},
   "outputs": [
    {
     "data": {
      "application/vnd.microsoft.datawrangler.viewer.v0+json": {
       "columns": [
        {
         "name": "Line",
         "rawType": "object",
         "type": "string"
        },
        {
         "name": "bus0",
         "rawType": "object",
         "type": "string"
        },
        {
         "name": "bus1",
         "rawType": "object",
         "type": "string"
        },
        {
         "name": "type",
         "rawType": "object",
         "type": "string"
        },
        {
         "name": "x",
         "rawType": "float64",
         "type": "float"
        },
        {
         "name": "r",
         "rawType": "float64",
         "type": "float"
        },
        {
         "name": "g",
         "rawType": "float64",
         "type": "float"
        },
        {
         "name": "b",
         "rawType": "float64",
         "type": "float"
        },
        {
         "name": "s_nom",
         "rawType": "float64",
         "type": "float"
        },
        {
         "name": "s_nom_mod",
         "rawType": "float64",
         "type": "float"
        },
        {
         "name": "s_nom_extendable",
         "rawType": "bool",
         "type": "boolean"
        },
        {
         "name": "s_nom_min",
         "rawType": "float64",
         "type": "float"
        },
        {
         "name": "s_nom_max",
         "rawType": "float64",
         "type": "float"
        },
        {
         "name": "s_max_pu",
         "rawType": "float64",
         "type": "float"
        },
        {
         "name": "capital_cost",
         "rawType": "float64",
         "type": "float"
        },
        {
         "name": "active",
         "rawType": "bool",
         "type": "boolean"
        },
        {
         "name": "build_year",
         "rawType": "int64",
         "type": "integer"
        },
        {
         "name": "lifetime",
         "rawType": "float64",
         "type": "float"
        },
        {
         "name": "length",
         "rawType": "float64",
         "type": "float"
        },
        {
         "name": "carrier",
         "rawType": "object",
         "type": "string"
        },
        {
         "name": "terrain_factor",
         "rawType": "float64",
         "type": "float"
        },
        {
         "name": "num_parallel",
         "rawType": "float64",
         "type": "float"
        },
        {
         "name": "v_ang_min",
         "rawType": "float64",
         "type": "float"
        },
        {
         "name": "v_ang_max",
         "rawType": "float64",
         "type": "float"
        },
        {
         "name": "sub_network",
         "rawType": "object",
         "type": "string"
        },
        {
         "name": "x_pu",
         "rawType": "float64",
         "type": "float"
        },
        {
         "name": "r_pu",
         "rawType": "float64",
         "type": "float"
        },
        {
         "name": "g_pu",
         "rawType": "float64",
         "type": "float"
        },
        {
         "name": "b_pu",
         "rawType": "float64",
         "type": "float"
        },
        {
         "name": "x_pu_eff",
         "rawType": "float64",
         "type": "float"
        },
        {
         "name": "r_pu_eff",
         "rawType": "float64",
         "type": "float"
        },
        {
         "name": "s_nom_opt",
         "rawType": "float64",
         "type": "float"
        }
       ],
       "ref": "01d74e6e-ac7d-4edc-ab20-ee510a3ad125",
       "rows": [
        [
         "Line 45",
         "Bus 4",
         "Bus 5",
         "",
         "4496.5",
         "529.0",
         "0.0",
         "3.32703213610586e-06",
         "0.0",
         "0.0",
         "False",
         "0.0",
         "inf",
         "1.0",
         "0.0",
         "True",
         "0",
         "inf",
         "0.0",
         "",
         "1.0",
         "1.0",
         "-inf",
         "inf",
         "",
         "0.0",
         "0.0",
         "0.0",
         "0.0",
         "0.0",
         "0.0",
         "0.0"
        ],
        [
         "Line 46",
         "Bus 4",
         "Bus 6",
         "",
         "4866.8",
         "899.3000000000001",
         "0.0",
         "2.9867674858223064e-06",
         "0.0",
         "0.0",
         "False",
         "0.0",
         "inf",
         "1.0",
         "0.0",
         "True",
         "0",
         "inf",
         "0.0",
         "",
         "1.0",
         "1.0",
         "-inf",
         "inf",
         "",
         "0.0",
         "0.0",
         "0.0",
         "0.0",
         "0.0",
         "0.0",
         "0.0"
        ],
        [
         "Line 69",
         "Bus 6",
         "Bus 9",
         "",
         "8993.0",
         "2063.1",
         "0.0",
         "6.767485822306238e-06",
         "0.0",
         "0.0",
         "False",
         "0.0",
         "inf",
         "1.0",
         "0.0",
         "True",
         "0",
         "inf",
         "0.0",
         "",
         "1.0",
         "1.0",
         "-inf",
         "inf",
         "",
         "0.0",
         "0.0",
         "0.0",
         "0.0",
         "0.0",
         "0.0",
         "0.0"
        ],
        [
         "Line 57",
         "Bus 5",
         "Bus 7",
         "",
         "8516.9",
         "1692.8",
         "0.0",
         "5.784499054820415e-06",
         "0.0",
         "0.0",
         "False",
         "0.0",
         "inf",
         "1.0",
         "0.0",
         "True",
         "0",
         "inf",
         "0.0",
         "",
         "1.0",
         "1.0",
         "-inf",
         "inf",
         "",
         "0.0",
         "0.0",
         "0.0",
         "0.0",
         "0.0",
         "0.0",
         "0.0"
        ],
        [
         "Line 98",
         "Bus 9",
         "Bus 8",
         "",
         "5332.32",
         "629.51",
         "0.0",
         "3.9508506616257085e-06",
         "0.0",
         "0.0",
         "False",
         "0.0",
         "inf",
         "1.0",
         "0.0",
         "True",
         "0",
         "inf",
         "0.0",
         "",
         "1.0",
         "1.0",
         "-inf",
         "inf",
         "",
         "0.0",
         "0.0",
         "0.0",
         "0.0",
         "0.0",
         "0.0",
         "0.0"
        ],
        [
         "Line 78",
         "Bus 7",
         "Bus 8",
         "",
         "3808.7999999999997",
         "449.65000000000003",
         "0.0",
         "2.816635160680529e-06",
         "0.0",
         "0.0",
         "False",
         "0.0",
         "inf",
         "1.0",
         "0.0",
         "True",
         "0",
         "inf",
         "0.0",
         "",
         "1.0",
         "1.0",
         "-inf",
         "inf",
         "",
         "0.0",
         "0.0",
         "0.0",
         "0.0",
         "0.0",
         "0.0",
         "0.0"
        ]
       ],
       "shape": {
        "columns": 31,
        "rows": 6
       }
      },
      "text/html": [
       "<div>\n",
       "<style scoped>\n",
       "    .dataframe tbody tr th:only-of-type {\n",
       "        vertical-align: middle;\n",
       "    }\n",
       "\n",
       "    .dataframe tbody tr th {\n",
       "        vertical-align: top;\n",
       "    }\n",
       "\n",
       "    .dataframe thead th {\n",
       "        text-align: right;\n",
       "    }\n",
       "</style>\n",
       "<table border=\"1\" class=\"dataframe\">\n",
       "  <thead>\n",
       "    <tr style=\"text-align: right;\">\n",
       "      <th></th>\n",
       "      <th>bus0</th>\n",
       "      <th>bus1</th>\n",
       "      <th>type</th>\n",
       "      <th>x</th>\n",
       "      <th>r</th>\n",
       "      <th>g</th>\n",
       "      <th>b</th>\n",
       "      <th>s_nom</th>\n",
       "      <th>s_nom_mod</th>\n",
       "      <th>s_nom_extendable</th>\n",
       "      <th>...</th>\n",
       "      <th>v_ang_min</th>\n",
       "      <th>v_ang_max</th>\n",
       "      <th>sub_network</th>\n",
       "      <th>x_pu</th>\n",
       "      <th>r_pu</th>\n",
       "      <th>g_pu</th>\n",
       "      <th>b_pu</th>\n",
       "      <th>x_pu_eff</th>\n",
       "      <th>r_pu_eff</th>\n",
       "      <th>s_nom_opt</th>\n",
       "    </tr>\n",
       "    <tr>\n",
       "      <th>Line</th>\n",
       "      <th></th>\n",
       "      <th></th>\n",
       "      <th></th>\n",
       "      <th></th>\n",
       "      <th></th>\n",
       "      <th></th>\n",
       "      <th></th>\n",
       "      <th></th>\n",
       "      <th></th>\n",
       "      <th></th>\n",
       "      <th></th>\n",
       "      <th></th>\n",
       "      <th></th>\n",
       "      <th></th>\n",
       "      <th></th>\n",
       "      <th></th>\n",
       "      <th></th>\n",
       "      <th></th>\n",
       "      <th></th>\n",
       "      <th></th>\n",
       "      <th></th>\n",
       "    </tr>\n",
       "  </thead>\n",
       "  <tbody>\n",
       "    <tr>\n",
       "      <th>Line 45</th>\n",
       "      <td>Bus 4</td>\n",
       "      <td>Bus 5</td>\n",
       "      <td></td>\n",
       "      <td>4496.50</td>\n",
       "      <td>529.00</td>\n",
       "      <td>0.0</td>\n",
       "      <td>0.000003</td>\n",
       "      <td>0.0</td>\n",
       "      <td>0.0</td>\n",
       "      <td>False</td>\n",
       "      <td>...</td>\n",
       "      <td>-inf</td>\n",
       "      <td>inf</td>\n",
       "      <td></td>\n",
       "      <td>0.0</td>\n",
       "      <td>0.0</td>\n",
       "      <td>0.0</td>\n",
       "      <td>0.0</td>\n",
       "      <td>0.0</td>\n",
       "      <td>0.0</td>\n",
       "      <td>0.0</td>\n",
       "    </tr>\n",
       "    <tr>\n",
       "      <th>Line 46</th>\n",
       "      <td>Bus 4</td>\n",
       "      <td>Bus 6</td>\n",
       "      <td></td>\n",
       "      <td>4866.80</td>\n",
       "      <td>899.30</td>\n",
       "      <td>0.0</td>\n",
       "      <td>0.000003</td>\n",
       "      <td>0.0</td>\n",
       "      <td>0.0</td>\n",
       "      <td>False</td>\n",
       "      <td>...</td>\n",
       "      <td>-inf</td>\n",
       "      <td>inf</td>\n",
       "      <td></td>\n",
       "      <td>0.0</td>\n",
       "      <td>0.0</td>\n",
       "      <td>0.0</td>\n",
       "      <td>0.0</td>\n",
       "      <td>0.0</td>\n",
       "      <td>0.0</td>\n",
       "      <td>0.0</td>\n",
       "    </tr>\n",
       "    <tr>\n",
       "      <th>Line 69</th>\n",
       "      <td>Bus 6</td>\n",
       "      <td>Bus 9</td>\n",
       "      <td></td>\n",
       "      <td>8993.00</td>\n",
       "      <td>2063.10</td>\n",
       "      <td>0.0</td>\n",
       "      <td>0.000007</td>\n",
       "      <td>0.0</td>\n",
       "      <td>0.0</td>\n",
       "      <td>False</td>\n",
       "      <td>...</td>\n",
       "      <td>-inf</td>\n",
       "      <td>inf</td>\n",
       "      <td></td>\n",
       "      <td>0.0</td>\n",
       "      <td>0.0</td>\n",
       "      <td>0.0</td>\n",
       "      <td>0.0</td>\n",
       "      <td>0.0</td>\n",
       "      <td>0.0</td>\n",
       "      <td>0.0</td>\n",
       "    </tr>\n",
       "    <tr>\n",
       "      <th>Line 57</th>\n",
       "      <td>Bus 5</td>\n",
       "      <td>Bus 7</td>\n",
       "      <td></td>\n",
       "      <td>8516.90</td>\n",
       "      <td>1692.80</td>\n",
       "      <td>0.0</td>\n",
       "      <td>0.000006</td>\n",
       "      <td>0.0</td>\n",
       "      <td>0.0</td>\n",
       "      <td>False</td>\n",
       "      <td>...</td>\n",
       "      <td>-inf</td>\n",
       "      <td>inf</td>\n",
       "      <td></td>\n",
       "      <td>0.0</td>\n",
       "      <td>0.0</td>\n",
       "      <td>0.0</td>\n",
       "      <td>0.0</td>\n",
       "      <td>0.0</td>\n",
       "      <td>0.0</td>\n",
       "      <td>0.0</td>\n",
       "    </tr>\n",
       "    <tr>\n",
       "      <th>Line 98</th>\n",
       "      <td>Bus 9</td>\n",
       "      <td>Bus 8</td>\n",
       "      <td></td>\n",
       "      <td>5332.32</td>\n",
       "      <td>629.51</td>\n",
       "      <td>0.0</td>\n",
       "      <td>0.000004</td>\n",
       "      <td>0.0</td>\n",
       "      <td>0.0</td>\n",
       "      <td>False</td>\n",
       "      <td>...</td>\n",
       "      <td>-inf</td>\n",
       "      <td>inf</td>\n",
       "      <td></td>\n",
       "      <td>0.0</td>\n",
       "      <td>0.0</td>\n",
       "      <td>0.0</td>\n",
       "      <td>0.0</td>\n",
       "      <td>0.0</td>\n",
       "      <td>0.0</td>\n",
       "      <td>0.0</td>\n",
       "    </tr>\n",
       "    <tr>\n",
       "      <th>Line 78</th>\n",
       "      <td>Bus 7</td>\n",
       "      <td>Bus 8</td>\n",
       "      <td></td>\n",
       "      <td>3808.80</td>\n",
       "      <td>449.65</td>\n",
       "      <td>0.0</td>\n",
       "      <td>0.000003</td>\n",
       "      <td>0.0</td>\n",
       "      <td>0.0</td>\n",
       "      <td>False</td>\n",
       "      <td>...</td>\n",
       "      <td>-inf</td>\n",
       "      <td>inf</td>\n",
       "      <td></td>\n",
       "      <td>0.0</td>\n",
       "      <td>0.0</td>\n",
       "      <td>0.0</td>\n",
       "      <td>0.0</td>\n",
       "      <td>0.0</td>\n",
       "      <td>0.0</td>\n",
       "      <td>0.0</td>\n",
       "    </tr>\n",
       "  </tbody>\n",
       "</table>\n",
       "<p>6 rows × 31 columns</p>\n",
       "</div>"
      ],
      "text/plain": [
       "          bus0   bus1 type        x        r    g         b  s_nom  s_nom_mod  \\\n",
       "Line                                                                            \n",
       "Line 45  Bus 4  Bus 5       4496.50   529.00  0.0  0.000003    0.0        0.0   \n",
       "Line 46  Bus 4  Bus 6       4866.80   899.30  0.0  0.000003    0.0        0.0   \n",
       "Line 69  Bus 6  Bus 9       8993.00  2063.10  0.0  0.000007    0.0        0.0   \n",
       "Line 57  Bus 5  Bus 7       8516.90  1692.80  0.0  0.000006    0.0        0.0   \n",
       "Line 98  Bus 9  Bus 8       5332.32   629.51  0.0  0.000004    0.0        0.0   \n",
       "Line 78  Bus 7  Bus 8       3808.80   449.65  0.0  0.000003    0.0        0.0   \n",
       "\n",
       "         s_nom_extendable  ...  v_ang_min  v_ang_max  sub_network  x_pu  r_pu  \\\n",
       "Line                       ...                                                  \n",
       "Line 45             False  ...       -inf        inf                0.0   0.0   \n",
       "Line 46             False  ...       -inf        inf                0.0   0.0   \n",
       "Line 69             False  ...       -inf        inf                0.0   0.0   \n",
       "Line 57             False  ...       -inf        inf                0.0   0.0   \n",
       "Line 98             False  ...       -inf        inf                0.0   0.0   \n",
       "Line 78             False  ...       -inf        inf                0.0   0.0   \n",
       "\n",
       "         g_pu  b_pu  x_pu_eff r_pu_eff  s_nom_opt  \n",
       "Line                                               \n",
       "Line 45   0.0   0.0       0.0      0.0        0.0  \n",
       "Line 46   0.0   0.0       0.0      0.0        0.0  \n",
       "Line 69   0.0   0.0       0.0      0.0        0.0  \n",
       "Line 57   0.0   0.0       0.0      0.0        0.0  \n",
       "Line 98   0.0   0.0       0.0      0.0        0.0  \n",
       "Line 78   0.0   0.0       0.0      0.0        0.0  \n",
       "\n",
       "[6 rows x 31 columns]"
      ]
     },
     "execution_count": 268,
     "metadata": {},
     "output_type": "execute_result"
    }
   ],
   "source": [
    "grid.add(\"Line\", \"Line 45\", bus0=\"Bus 4\", bus1=\"Bus 5\", r=0.0100*(V_base**2), x=0.0850*(V_base**2), b=0.1760/(V_base**2))\n",
    "grid.add(\"Line\", \"Line 46\", bus0=\"Bus 4\", bus1=\"Bus 6\", r=0.0170*(V_base**2), x=0.0920*(V_base**2), b=0.1580/(V_base**2))\n",
    "grid.add(\"Line\", \"Line 69\", bus0=\"Bus 6\", bus1=\"Bus 9\", r=0.0390*(V_base**2), x=0.1700*(V_base**2), b=0.3580/(V_base**2))\n",
    "grid.add(\"Line\", \"Line 57\", bus0=\"Bus 5\", bus1=\"Bus 7\", r=0.0320*(V_base**2), x=0.1610*(V_base**2), b=0.3060/(V_base**2))\n",
    "grid.add(\"Line\", \"Line 98\", bus0=\"Bus 9\", bus1=\"Bus 8\", r=0.0119*(V_base**2), x=0.1008*(V_base**2), b=0.2090/(V_base**2))\n",
    "grid.add(\"Line\", \"Line 78\", bus0=\"Bus 7\", bus1=\"Bus 8\", r=0.0085*(V_base**2), x=0.0720*(V_base**2), b=0.1490/(V_base**2))\n",
    "\n",
    "grid.lines"
   ]
  },
  {
   "cell_type": "code",
   "execution_count": 269,
   "metadata": {},
   "outputs": [
    {
     "data": {
      "application/vnd.microsoft.datawrangler.viewer.v0+json": {
       "columns": [
        {
         "name": "Generator",
         "rawType": "object",
         "type": "string"
        },
        {
         "name": "bus",
         "rawType": "object",
         "type": "string"
        },
        {
         "name": "control",
         "rawType": "object",
         "type": "string"
        },
        {
         "name": "type",
         "rawType": "object",
         "type": "string"
        },
        {
         "name": "p_nom",
         "rawType": "float64",
         "type": "float"
        },
        {
         "name": "p_nom_mod",
         "rawType": "float64",
         "type": "float"
        },
        {
         "name": "p_nom_extendable",
         "rawType": "bool",
         "type": "boolean"
        },
        {
         "name": "p_nom_min",
         "rawType": "float64",
         "type": "float"
        },
        {
         "name": "p_nom_max",
         "rawType": "float64",
         "type": "float"
        },
        {
         "name": "p_min_pu",
         "rawType": "float64",
         "type": "float"
        },
        {
         "name": "p_max_pu",
         "rawType": "float64",
         "type": "float"
        },
        {
         "name": "p_set",
         "rawType": "float64",
         "type": "float"
        },
        {
         "name": "e_sum_min",
         "rawType": "float64",
         "type": "float"
        },
        {
         "name": "e_sum_max",
         "rawType": "float64",
         "type": "float"
        },
        {
         "name": "q_set",
         "rawType": "float64",
         "type": "float"
        },
        {
         "name": "sign",
         "rawType": "float64",
         "type": "float"
        },
        {
         "name": "carrier",
         "rawType": "object",
         "type": "string"
        },
        {
         "name": "marginal_cost",
         "rawType": "float64",
         "type": "float"
        },
        {
         "name": "marginal_cost_quadratic",
         "rawType": "float64",
         "type": "float"
        },
        {
         "name": "active",
         "rawType": "bool",
         "type": "boolean"
        },
        {
         "name": "build_year",
         "rawType": "int64",
         "type": "integer"
        },
        {
         "name": "lifetime",
         "rawType": "float64",
         "type": "float"
        },
        {
         "name": "capital_cost",
         "rawType": "float64",
         "type": "float"
        },
        {
         "name": "efficiency",
         "rawType": "float64",
         "type": "float"
        },
        {
         "name": "committable",
         "rawType": "bool",
         "type": "boolean"
        },
        {
         "name": "start_up_cost",
         "rawType": "float64",
         "type": "float"
        },
        {
         "name": "shut_down_cost",
         "rawType": "float64",
         "type": "float"
        },
        {
         "name": "stand_by_cost",
         "rawType": "float64",
         "type": "float"
        },
        {
         "name": "min_up_time",
         "rawType": "int64",
         "type": "integer"
        },
        {
         "name": "min_down_time",
         "rawType": "int64",
         "type": "integer"
        },
        {
         "name": "up_time_before",
         "rawType": "int64",
         "type": "integer"
        },
        {
         "name": "down_time_before",
         "rawType": "int64",
         "type": "integer"
        },
        {
         "name": "ramp_limit_up",
         "rawType": "float64",
         "type": "float"
        },
        {
         "name": "ramp_limit_down",
         "rawType": "float64",
         "type": "float"
        },
        {
         "name": "ramp_limit_start_up",
         "rawType": "float64",
         "type": "float"
        },
        {
         "name": "ramp_limit_shut_down",
         "rawType": "float64",
         "type": "float"
        },
        {
         "name": "weight",
         "rawType": "float64",
         "type": "float"
        },
        {
         "name": "p_nom_opt",
         "rawType": "float64",
         "type": "float"
        }
       ],
       "ref": "00d6c517-617d-47b9-a0b0-90a7924c1c8f",
       "rows": [
        [
         "Generator 1",
         "Bus 1",
         "Slack",
         "",
         "0.0",
         "0.0",
         "False",
         "0.0",
         "inf",
         "0.0",
         "1.0",
         "0.0",
         "-inf",
         "inf",
         "0.0",
         "1.0",
         "",
         "0.0",
         "0.0",
         "True",
         "0",
         "inf",
         "0.0",
         "1.0",
         "False",
         "0.0",
         "0.0",
         "0.0",
         "0",
         "0",
         "1",
         "0",
         null,
         null,
         "1.0",
         "1.0",
         "1.0",
         "0.0"
        ],
        [
         "Generator 2",
         "Bus 2",
         "PV",
         "",
         "0.0",
         "0.0",
         "False",
         "0.0",
         "inf",
         "0.0",
         "1.0",
         "1.63",
         "-inf",
         "inf",
         "0.0",
         "1.0",
         "",
         "0.0",
         "0.0",
         "True",
         "0",
         "inf",
         "0.0",
         "1.0",
         "False",
         "0.0",
         "0.0",
         "0.0",
         "0",
         "0",
         "1",
         "0",
         null,
         null,
         "1.0",
         "1.0",
         "1.0",
         "0.0"
        ],
        [
         "Generator 3",
         "Bus 3",
         "PV",
         "",
         "0.0",
         "0.0",
         "False",
         "0.0",
         "inf",
         "0.0",
         "1.0",
         "0.85",
         "-inf",
         "inf",
         "0.0",
         "1.0",
         "",
         "0.0",
         "0.0",
         "True",
         "0",
         "inf",
         "0.0",
         "1.0",
         "False",
         "0.0",
         "0.0",
         "0.0",
         "0",
         "0",
         "1",
         "0",
         null,
         null,
         "1.0",
         "1.0",
         "1.0",
         "0.0"
        ]
       ],
       "shape": {
        "columns": 37,
        "rows": 3
       }
      },
      "text/html": [
       "<div>\n",
       "<style scoped>\n",
       "    .dataframe tbody tr th:only-of-type {\n",
       "        vertical-align: middle;\n",
       "    }\n",
       "\n",
       "    .dataframe tbody tr th {\n",
       "        vertical-align: top;\n",
       "    }\n",
       "\n",
       "    .dataframe thead th {\n",
       "        text-align: right;\n",
       "    }\n",
       "</style>\n",
       "<table border=\"1\" class=\"dataframe\">\n",
       "  <thead>\n",
       "    <tr style=\"text-align: right;\">\n",
       "      <th></th>\n",
       "      <th>bus</th>\n",
       "      <th>control</th>\n",
       "      <th>type</th>\n",
       "      <th>p_nom</th>\n",
       "      <th>p_nom_mod</th>\n",
       "      <th>p_nom_extendable</th>\n",
       "      <th>p_nom_min</th>\n",
       "      <th>p_nom_max</th>\n",
       "      <th>p_min_pu</th>\n",
       "      <th>p_max_pu</th>\n",
       "      <th>...</th>\n",
       "      <th>min_up_time</th>\n",
       "      <th>min_down_time</th>\n",
       "      <th>up_time_before</th>\n",
       "      <th>down_time_before</th>\n",
       "      <th>ramp_limit_up</th>\n",
       "      <th>ramp_limit_down</th>\n",
       "      <th>ramp_limit_start_up</th>\n",
       "      <th>ramp_limit_shut_down</th>\n",
       "      <th>weight</th>\n",
       "      <th>p_nom_opt</th>\n",
       "    </tr>\n",
       "    <tr>\n",
       "      <th>Generator</th>\n",
       "      <th></th>\n",
       "      <th></th>\n",
       "      <th></th>\n",
       "      <th></th>\n",
       "      <th></th>\n",
       "      <th></th>\n",
       "      <th></th>\n",
       "      <th></th>\n",
       "      <th></th>\n",
       "      <th></th>\n",
       "      <th></th>\n",
       "      <th></th>\n",
       "      <th></th>\n",
       "      <th></th>\n",
       "      <th></th>\n",
       "      <th></th>\n",
       "      <th></th>\n",
       "      <th></th>\n",
       "      <th></th>\n",
       "      <th></th>\n",
       "      <th></th>\n",
       "    </tr>\n",
       "  </thead>\n",
       "  <tbody>\n",
       "    <tr>\n",
       "      <th>Generator 1</th>\n",
       "      <td>Bus 1</td>\n",
       "      <td>Slack</td>\n",
       "      <td></td>\n",
       "      <td>0.0</td>\n",
       "      <td>0.0</td>\n",
       "      <td>False</td>\n",
       "      <td>0.0</td>\n",
       "      <td>inf</td>\n",
       "      <td>0.0</td>\n",
       "      <td>1.0</td>\n",
       "      <td>...</td>\n",
       "      <td>0</td>\n",
       "      <td>0</td>\n",
       "      <td>1</td>\n",
       "      <td>0</td>\n",
       "      <td>NaN</td>\n",
       "      <td>NaN</td>\n",
       "      <td>1.0</td>\n",
       "      <td>1.0</td>\n",
       "      <td>1.0</td>\n",
       "      <td>0.0</td>\n",
       "    </tr>\n",
       "    <tr>\n",
       "      <th>Generator 2</th>\n",
       "      <td>Bus 2</td>\n",
       "      <td>PV</td>\n",
       "      <td></td>\n",
       "      <td>0.0</td>\n",
       "      <td>0.0</td>\n",
       "      <td>False</td>\n",
       "      <td>0.0</td>\n",
       "      <td>inf</td>\n",
       "      <td>0.0</td>\n",
       "      <td>1.0</td>\n",
       "      <td>...</td>\n",
       "      <td>0</td>\n",
       "      <td>0</td>\n",
       "      <td>1</td>\n",
       "      <td>0</td>\n",
       "      <td>NaN</td>\n",
       "      <td>NaN</td>\n",
       "      <td>1.0</td>\n",
       "      <td>1.0</td>\n",
       "      <td>1.0</td>\n",
       "      <td>0.0</td>\n",
       "    </tr>\n",
       "    <tr>\n",
       "      <th>Generator 3</th>\n",
       "      <td>Bus 3</td>\n",
       "      <td>PV</td>\n",
       "      <td></td>\n",
       "      <td>0.0</td>\n",
       "      <td>0.0</td>\n",
       "      <td>False</td>\n",
       "      <td>0.0</td>\n",
       "      <td>inf</td>\n",
       "      <td>0.0</td>\n",
       "      <td>1.0</td>\n",
       "      <td>...</td>\n",
       "      <td>0</td>\n",
       "      <td>0</td>\n",
       "      <td>1</td>\n",
       "      <td>0</td>\n",
       "      <td>NaN</td>\n",
       "      <td>NaN</td>\n",
       "      <td>1.0</td>\n",
       "      <td>1.0</td>\n",
       "      <td>1.0</td>\n",
       "      <td>0.0</td>\n",
       "    </tr>\n",
       "  </tbody>\n",
       "</table>\n",
       "<p>3 rows × 37 columns</p>\n",
       "</div>"
      ],
      "text/plain": [
       "               bus control type  p_nom  p_nom_mod  p_nom_extendable  \\\n",
       "Generator                                                             \n",
       "Generator 1  Bus 1   Slack         0.0        0.0             False   \n",
       "Generator 2  Bus 2      PV         0.0        0.0             False   \n",
       "Generator 3  Bus 3      PV         0.0        0.0             False   \n",
       "\n",
       "             p_nom_min  p_nom_max  p_min_pu  p_max_pu  ...  min_up_time  \\\n",
       "Generator                                              ...                \n",
       "Generator 1        0.0        inf       0.0       1.0  ...            0   \n",
       "Generator 2        0.0        inf       0.0       1.0  ...            0   \n",
       "Generator 3        0.0        inf       0.0       1.0  ...            0   \n",
       "\n",
       "             min_down_time  up_time_before  down_time_before  ramp_limit_up  \\\n",
       "Generator                                                                     \n",
       "Generator 1              0               1                 0            NaN   \n",
       "Generator 2              0               1                 0            NaN   \n",
       "Generator 3              0               1                 0            NaN   \n",
       "\n",
       "            ramp_limit_down  ramp_limit_start_up  ramp_limit_shut_down  \\\n",
       "Generator                                                                \n",
       "Generator 1             NaN                  1.0                   1.0   \n",
       "Generator 2             NaN                  1.0                   1.0   \n",
       "Generator 3             NaN                  1.0                   1.0   \n",
       "\n",
       "             weight  p_nom_opt  \n",
       "Generator                       \n",
       "Generator 1     1.0        0.0  \n",
       "Generator 2     1.0        0.0  \n",
       "Generator 3     1.0        0.0  \n",
       "\n",
       "[3 rows x 37 columns]"
      ]
     },
     "execution_count": 269,
     "metadata": {},
     "output_type": "execute_result"
    }
   ],
   "source": [
    "grid.add(\"Generator\", \"Generator 1\", bus=\"Bus 1\", control=\"Slack\")\n",
    "grid.add(\"Generator\", \"Generator 2\", bus=\"Bus 2\", p_set=1.63, control=\"PV\")\n",
    "grid.add(\"Generator\", \"Generator 3\", bus=\"Bus 3\", p_set=0.85, control=\"PV\")\n",
    "\n",
    "grid.generators"
   ]
  },
  {
   "cell_type": "code",
   "execution_count": 270,
   "metadata": {},
   "outputs": [
    {
     "data": {
      "application/vnd.microsoft.datawrangler.viewer.v0+json": {
       "columns": [
        {
         "name": "Load",
         "rawType": "object",
         "type": "string"
        },
        {
         "name": "bus",
         "rawType": "object",
         "type": "string"
        },
        {
         "name": "carrier",
         "rawType": "object",
         "type": "string"
        },
        {
         "name": "type",
         "rawType": "object",
         "type": "string"
        },
        {
         "name": "p_set",
         "rawType": "float64",
         "type": "float"
        },
        {
         "name": "q_set",
         "rawType": "float64",
         "type": "float"
        },
        {
         "name": "sign",
         "rawType": "float64",
         "type": "float"
        },
        {
         "name": "active",
         "rawType": "bool",
         "type": "boolean"
        }
       ],
       "ref": "ced6bcd8-1636-41d3-847d-25f0fcf8ff9c",
       "rows": [
        [
         "Load 5",
         "Bus 5",
         "",
         "",
         "1.25",
         "0.5",
         "-1.0",
         "True"
        ],
        [
         "Load 6",
         "Bus 6",
         "",
         "",
         "0.9",
         "0.3",
         "-1.0",
         "True"
        ],
        [
         "Load 8",
         "Bus 8",
         "",
         "",
         "1.0",
         "0.35",
         "-1.0",
         "True"
        ]
       ],
       "shape": {
        "columns": 7,
        "rows": 3
       }
      },
      "text/html": [
       "<div>\n",
       "<style scoped>\n",
       "    .dataframe tbody tr th:only-of-type {\n",
       "        vertical-align: middle;\n",
       "    }\n",
       "\n",
       "    .dataframe tbody tr th {\n",
       "        vertical-align: top;\n",
       "    }\n",
       "\n",
       "    .dataframe thead th {\n",
       "        text-align: right;\n",
       "    }\n",
       "</style>\n",
       "<table border=\"1\" class=\"dataframe\">\n",
       "  <thead>\n",
       "    <tr style=\"text-align: right;\">\n",
       "      <th></th>\n",
       "      <th>bus</th>\n",
       "      <th>carrier</th>\n",
       "      <th>type</th>\n",
       "      <th>p_set</th>\n",
       "      <th>q_set</th>\n",
       "      <th>sign</th>\n",
       "      <th>active</th>\n",
       "    </tr>\n",
       "    <tr>\n",
       "      <th>Load</th>\n",
       "      <th></th>\n",
       "      <th></th>\n",
       "      <th></th>\n",
       "      <th></th>\n",
       "      <th></th>\n",
       "      <th></th>\n",
       "      <th></th>\n",
       "    </tr>\n",
       "  </thead>\n",
       "  <tbody>\n",
       "    <tr>\n",
       "      <th>Load 5</th>\n",
       "      <td>Bus 5</td>\n",
       "      <td></td>\n",
       "      <td></td>\n",
       "      <td>1.25</td>\n",
       "      <td>0.50</td>\n",
       "      <td>-1.0</td>\n",
       "      <td>True</td>\n",
       "    </tr>\n",
       "    <tr>\n",
       "      <th>Load 6</th>\n",
       "      <td>Bus 6</td>\n",
       "      <td></td>\n",
       "      <td></td>\n",
       "      <td>0.90</td>\n",
       "      <td>0.30</td>\n",
       "      <td>-1.0</td>\n",
       "      <td>True</td>\n",
       "    </tr>\n",
       "    <tr>\n",
       "      <th>Load 8</th>\n",
       "      <td>Bus 8</td>\n",
       "      <td></td>\n",
       "      <td></td>\n",
       "      <td>1.00</td>\n",
       "      <td>0.35</td>\n",
       "      <td>-1.0</td>\n",
       "      <td>True</td>\n",
       "    </tr>\n",
       "  </tbody>\n",
       "</table>\n",
       "</div>"
      ],
      "text/plain": [
       "          bus carrier type  p_set  q_set  sign  active\n",
       "Load                                                  \n",
       "Load 5  Bus 5                1.25   0.50  -1.0    True\n",
       "Load 6  Bus 6                0.90   0.30  -1.0    True\n",
       "Load 8  Bus 8                1.00   0.35  -1.0    True"
      ]
     },
     "execution_count": 270,
     "metadata": {},
     "output_type": "execute_result"
    }
   ],
   "source": [
    "grid.add(\"Load\", \"Load 5\", bus=\"Bus 5\", p_set=1.25, q_set=0.50)\n",
    "grid.add(\"Load\", \"Load 6\", bus=\"Bus 6\", p_set=0.90, q_set=0.30)\n",
    "grid.add(\"Load\", \"Load 8\", bus=\"Bus 8\", p_set=1.00, q_set=0.35)\n",
    "\n",
    "grid.loads"
   ]
  },
  {
   "cell_type": "code",
   "execution_count": 271,
   "metadata": {},
   "outputs": [
    {
     "data": {
      "application/vnd.microsoft.datawrangler.viewer.v0+json": {
       "columns": [
        {
         "name": "Transformer",
         "rawType": "object",
         "type": "string"
        },
        {
         "name": "bus0",
         "rawType": "object",
         "type": "string"
        },
        {
         "name": "bus1",
         "rawType": "object",
         "type": "string"
        },
        {
         "name": "type",
         "rawType": "object",
         "type": "string"
        },
        {
         "name": "model",
         "rawType": "object",
         "type": "string"
        },
        {
         "name": "x",
         "rawType": "float64",
         "type": "float"
        },
        {
         "name": "r",
         "rawType": "float64",
         "type": "float"
        },
        {
         "name": "g",
         "rawType": "float64",
         "type": "float"
        },
        {
         "name": "b",
         "rawType": "float64",
         "type": "float"
        },
        {
         "name": "s_nom",
         "rawType": "float64",
         "type": "float"
        },
        {
         "name": "s_nom_mod",
         "rawType": "float64",
         "type": "float"
        },
        {
         "name": "s_nom_extendable",
         "rawType": "bool",
         "type": "boolean"
        },
        {
         "name": "s_nom_min",
         "rawType": "float64",
         "type": "float"
        },
        {
         "name": "s_nom_max",
         "rawType": "float64",
         "type": "float"
        },
        {
         "name": "s_max_pu",
         "rawType": "float64",
         "type": "float"
        },
        {
         "name": "capital_cost",
         "rawType": "float64",
         "type": "float"
        },
        {
         "name": "num_parallel",
         "rawType": "float64",
         "type": "float"
        },
        {
         "name": "tap_ratio",
         "rawType": "float64",
         "type": "float"
        },
        {
         "name": "tap_side",
         "rawType": "int64",
         "type": "integer"
        },
        {
         "name": "tap_position",
         "rawType": "int64",
         "type": "integer"
        },
        {
         "name": "phase_shift",
         "rawType": "float64",
         "type": "float"
        },
        {
         "name": "active",
         "rawType": "bool",
         "type": "boolean"
        },
        {
         "name": "build_year",
         "rawType": "int64",
         "type": "integer"
        },
        {
         "name": "lifetime",
         "rawType": "float64",
         "type": "float"
        },
        {
         "name": "v_ang_min",
         "rawType": "float64",
         "type": "float"
        },
        {
         "name": "v_ang_max",
         "rawType": "float64",
         "type": "float"
        },
        {
         "name": "sub_network",
         "rawType": "object",
         "type": "string"
        },
        {
         "name": "x_pu",
         "rawType": "float64",
         "type": "float"
        },
        {
         "name": "r_pu",
         "rawType": "float64",
         "type": "float"
        },
        {
         "name": "g_pu",
         "rawType": "float64",
         "type": "float"
        },
        {
         "name": "b_pu",
         "rawType": "float64",
         "type": "float"
        },
        {
         "name": "x_pu_eff",
         "rawType": "float64",
         "type": "float"
        },
        {
         "name": "r_pu_eff",
         "rawType": "float64",
         "type": "float"
        },
        {
         "name": "s_nom_opt",
         "rawType": "float64",
         "type": "float"
        }
       ],
       "ref": "96fefd53-93c4-4d8a-898c-3f1245ffdfc9",
       "rows": [
        [
         "Transformer 1",
         "Bus 1",
         "Bus 4",
         "",
         "t",
         "0.0576",
         "0.0",
         "0.0",
         "0.0",
         "1.0",
         "0.0",
         "False",
         "0.0",
         "inf",
         "1.0",
         "0.0",
         "1.0",
         "1.0",
         "0",
         "0",
         "0.0",
         "True",
         "0",
         "inf",
         "-inf",
         "inf",
         "",
         "0.0",
         "0.0",
         "0.0",
         "0.0",
         "0.0",
         "0.0",
         "0.0"
        ],
        [
         "Transformer 2",
         "Bus 2",
         "Bus 7",
         "",
         "t",
         "0.0625",
         "0.0",
         "0.0",
         "0.0",
         "1.0",
         "0.0",
         "False",
         "0.0",
         "inf",
         "1.0",
         "0.0",
         "1.0",
         "1.0",
         "0",
         "0",
         "0.0",
         "True",
         "0",
         "inf",
         "-inf",
         "inf",
         "",
         "0.0",
         "0.0",
         "0.0",
         "0.0",
         "0.0",
         "0.0",
         "0.0"
        ],
        [
         "Transformer 3",
         "Bus 3",
         "Bus 9",
         "",
         "t",
         "0.0586",
         "0.0",
         "0.0",
         "0.0",
         "1.0",
         "0.0",
         "False",
         "0.0",
         "inf",
         "1.0",
         "0.0",
         "1.0",
         "1.0",
         "0",
         "0",
         "0.0",
         "True",
         "0",
         "inf",
         "-inf",
         "inf",
         "",
         "0.0",
         "0.0",
         "0.0",
         "0.0",
         "0.0",
         "0.0",
         "0.0"
        ]
       ],
       "shape": {
        "columns": 33,
        "rows": 3
       }
      },
      "text/html": [
       "<div>\n",
       "<style scoped>\n",
       "    .dataframe tbody tr th:only-of-type {\n",
       "        vertical-align: middle;\n",
       "    }\n",
       "\n",
       "    .dataframe tbody tr th {\n",
       "        vertical-align: top;\n",
       "    }\n",
       "\n",
       "    .dataframe thead th {\n",
       "        text-align: right;\n",
       "    }\n",
       "</style>\n",
       "<table border=\"1\" class=\"dataframe\">\n",
       "  <thead>\n",
       "    <tr style=\"text-align: right;\">\n",
       "      <th></th>\n",
       "      <th>bus0</th>\n",
       "      <th>bus1</th>\n",
       "      <th>type</th>\n",
       "      <th>model</th>\n",
       "      <th>x</th>\n",
       "      <th>r</th>\n",
       "      <th>g</th>\n",
       "      <th>b</th>\n",
       "      <th>s_nom</th>\n",
       "      <th>s_nom_mod</th>\n",
       "      <th>...</th>\n",
       "      <th>v_ang_min</th>\n",
       "      <th>v_ang_max</th>\n",
       "      <th>sub_network</th>\n",
       "      <th>x_pu</th>\n",
       "      <th>r_pu</th>\n",
       "      <th>g_pu</th>\n",
       "      <th>b_pu</th>\n",
       "      <th>x_pu_eff</th>\n",
       "      <th>r_pu_eff</th>\n",
       "      <th>s_nom_opt</th>\n",
       "    </tr>\n",
       "    <tr>\n",
       "      <th>Transformer</th>\n",
       "      <th></th>\n",
       "      <th></th>\n",
       "      <th></th>\n",
       "      <th></th>\n",
       "      <th></th>\n",
       "      <th></th>\n",
       "      <th></th>\n",
       "      <th></th>\n",
       "      <th></th>\n",
       "      <th></th>\n",
       "      <th></th>\n",
       "      <th></th>\n",
       "      <th></th>\n",
       "      <th></th>\n",
       "      <th></th>\n",
       "      <th></th>\n",
       "      <th></th>\n",
       "      <th></th>\n",
       "      <th></th>\n",
       "      <th></th>\n",
       "      <th></th>\n",
       "    </tr>\n",
       "  </thead>\n",
       "  <tbody>\n",
       "    <tr>\n",
       "      <th>Transformer 1</th>\n",
       "      <td>Bus 1</td>\n",
       "      <td>Bus 4</td>\n",
       "      <td></td>\n",
       "      <td>t</td>\n",
       "      <td>0.0576</td>\n",
       "      <td>0.0</td>\n",
       "      <td>0.0</td>\n",
       "      <td>0.0</td>\n",
       "      <td>1.0</td>\n",
       "      <td>0.0</td>\n",
       "      <td>...</td>\n",
       "      <td>-inf</td>\n",
       "      <td>inf</td>\n",
       "      <td></td>\n",
       "      <td>0.0</td>\n",
       "      <td>0.0</td>\n",
       "      <td>0.0</td>\n",
       "      <td>0.0</td>\n",
       "      <td>0.0</td>\n",
       "      <td>0.0</td>\n",
       "      <td>0.0</td>\n",
       "    </tr>\n",
       "    <tr>\n",
       "      <th>Transformer 2</th>\n",
       "      <td>Bus 2</td>\n",
       "      <td>Bus 7</td>\n",
       "      <td></td>\n",
       "      <td>t</td>\n",
       "      <td>0.0625</td>\n",
       "      <td>0.0</td>\n",
       "      <td>0.0</td>\n",
       "      <td>0.0</td>\n",
       "      <td>1.0</td>\n",
       "      <td>0.0</td>\n",
       "      <td>...</td>\n",
       "      <td>-inf</td>\n",
       "      <td>inf</td>\n",
       "      <td></td>\n",
       "      <td>0.0</td>\n",
       "      <td>0.0</td>\n",
       "      <td>0.0</td>\n",
       "      <td>0.0</td>\n",
       "      <td>0.0</td>\n",
       "      <td>0.0</td>\n",
       "      <td>0.0</td>\n",
       "    </tr>\n",
       "    <tr>\n",
       "      <th>Transformer 3</th>\n",
       "      <td>Bus 3</td>\n",
       "      <td>Bus 9</td>\n",
       "      <td></td>\n",
       "      <td>t</td>\n",
       "      <td>0.0586</td>\n",
       "      <td>0.0</td>\n",
       "      <td>0.0</td>\n",
       "      <td>0.0</td>\n",
       "      <td>1.0</td>\n",
       "      <td>0.0</td>\n",
       "      <td>...</td>\n",
       "      <td>-inf</td>\n",
       "      <td>inf</td>\n",
       "      <td></td>\n",
       "      <td>0.0</td>\n",
       "      <td>0.0</td>\n",
       "      <td>0.0</td>\n",
       "      <td>0.0</td>\n",
       "      <td>0.0</td>\n",
       "      <td>0.0</td>\n",
       "      <td>0.0</td>\n",
       "    </tr>\n",
       "  </tbody>\n",
       "</table>\n",
       "<p>3 rows × 33 columns</p>\n",
       "</div>"
      ],
      "text/plain": [
       "                bus0   bus1 type model       x    r    g    b  s_nom  \\\n",
       "Transformer                                                            \n",
       "Transformer 1  Bus 1  Bus 4          t  0.0576  0.0  0.0  0.0    1.0   \n",
       "Transformer 2  Bus 2  Bus 7          t  0.0625  0.0  0.0  0.0    1.0   \n",
       "Transformer 3  Bus 3  Bus 9          t  0.0586  0.0  0.0  0.0    1.0   \n",
       "\n",
       "               s_nom_mod  ...  v_ang_min  v_ang_max  sub_network  x_pu  r_pu  \\\n",
       "Transformer               ...                                                  \n",
       "Transformer 1        0.0  ...       -inf        inf                0.0   0.0   \n",
       "Transformer 2        0.0  ...       -inf        inf                0.0   0.0   \n",
       "Transformer 3        0.0  ...       -inf        inf                0.0   0.0   \n",
       "\n",
       "               g_pu  b_pu  x_pu_eff  r_pu_eff  s_nom_opt  \n",
       "Transformer                                               \n",
       "Transformer 1   0.0   0.0       0.0       0.0        0.0  \n",
       "Transformer 2   0.0   0.0       0.0       0.0        0.0  \n",
       "Transformer 3   0.0   0.0       0.0       0.0        0.0  \n",
       "\n",
       "[3 rows x 33 columns]"
      ]
     },
     "execution_count": 271,
     "metadata": {},
     "output_type": "execute_result"
    }
   ],
   "source": [
    "grid.add(\"Transformer\", \"Transformer 1\", bus1=\"Bus 4\", bus0=\"Bus 1\", r=0, x=0.0576, s_nom=1)\n",
    "grid.add(\"Transformer\", \"Transformer 2\", bus1=\"Bus 7\", bus0=\"Bus 2\", r=0, x=0.0625, s_nom=1)\n",
    "grid.add(\"Transformer\", \"Transformer 3\", bus1=\"Bus 9\", bus0=\"Bus 3\", r=0, x=0.0586, s_nom=1)\n",
    "\n",
    "grid.transformers"
   ]
  },
  {
   "cell_type": "code",
   "execution_count": 273,
   "metadata": {},
   "outputs": [
    {
     "name": "stderr",
     "output_type": "stream",
     "text": [
      "INFO:pypsa.pf:Performing linear load-flow on AC sub-network <pypsa.networks.SubNetwork object at 0x000001F8FA47F790> for snapshot(s) Index(['now'], dtype='object', name='snapshot')\n",
      "INFO:pypsa.pf:Performing non-linear load-flow on AC sub-network <pypsa.networks.SubNetwork object at 0x000001F8F6D61890> for snapshots Index(['now'], dtype='object', name='snapshot')\n"
     ]
    },
    {
     "data": {
      "text/plain": [
       "{'n_iter': SubNetwork  0\n",
       " snapshot     \n",
       " now         3,\n",
       " 'error': SubNetwork             0\n",
       " snapshot                \n",
       " now         9.798341e-11,\n",
       " 'converged': SubNetwork     0\n",
       " snapshot        \n",
       " now         True}"
      ]
     },
     "execution_count": 273,
     "metadata": {},
     "output_type": "execute_result"
    }
   ],
   "source": [
    "grid.lpf()\n",
    "grid.pf(use_seed=True)"
   ]
  },
  {
   "cell_type": "code",
   "execution_count": 274,
   "metadata": {},
   "outputs": [
    {
     "data": {
      "application/vnd.microsoft.datawrangler.viewer.v0+json": {
       "columns": [
        {
         "name": "('component', 'name')",
         "rawType": "object",
         "type": "unknown"
        },
        {
         "name": "active",
         "rawType": "bool",
         "type": "boolean"
        },
        {
         "name": "b",
         "rawType": "float64",
         "type": "float"
        },
        {
         "name": "b_pu",
         "rawType": "float64",
         "type": "float"
        },
        {
         "name": "build_year",
         "rawType": "int64",
         "type": "integer"
        },
        {
         "name": "bus0",
         "rawType": "object",
         "type": "string"
        },
        {
         "name": "bus1",
         "rawType": "object",
         "type": "string"
        },
        {
         "name": "capital_cost",
         "rawType": "float64",
         "type": "float"
        },
        {
         "name": "carrier",
         "rawType": "object",
         "type": "unknown"
        },
        {
         "name": "committable",
         "rawType": "object",
         "type": "unknown"
        },
        {
         "name": "down_time_before",
         "rawType": "float64",
         "type": "float"
        },
        {
         "name": "efficiency",
         "rawType": "float64",
         "type": "float"
        },
        {
         "name": "g",
         "rawType": "float64",
         "type": "float"
        },
        {
         "name": "g_pu",
         "rawType": "float64",
         "type": "float"
        },
        {
         "name": "length",
         "rawType": "float64",
         "type": "float"
        },
        {
         "name": "lifetime",
         "rawType": "float64",
         "type": "float"
        },
        {
         "name": "marginal_cost",
         "rawType": "float64",
         "type": "float"
        },
        {
         "name": "marginal_cost_quadratic",
         "rawType": "float64",
         "type": "float"
        },
        {
         "name": "min_down_time",
         "rawType": "float64",
         "type": "float"
        },
        {
         "name": "min_up_time",
         "rawType": "float64",
         "type": "float"
        },
        {
         "name": "model",
         "rawType": "object",
         "type": "unknown"
        },
        {
         "name": "num_parallel",
         "rawType": "float64",
         "type": "float"
        },
        {
         "name": "p_max_pu",
         "rawType": "float64",
         "type": "float"
        },
        {
         "name": "p_min_pu",
         "rawType": "float64",
         "type": "float"
        },
        {
         "name": "p_nom",
         "rawType": "float64",
         "type": "float"
        },
        {
         "name": "p_nom_extendable",
         "rawType": "object",
         "type": "unknown"
        },
        {
         "name": "p_nom_max",
         "rawType": "float64",
         "type": "float"
        },
        {
         "name": "p_nom_min",
         "rawType": "float64",
         "type": "float"
        },
        {
         "name": "p_nom_mod",
         "rawType": "float64",
         "type": "float"
        },
        {
         "name": "p_nom_opt",
         "rawType": "float64",
         "type": "float"
        },
        {
         "name": "p_set",
         "rawType": "float64",
         "type": "float"
        },
        {
         "name": "phase_shift",
         "rawType": "float64",
         "type": "float"
        },
        {
         "name": "r",
         "rawType": "float64",
         "type": "float"
        },
        {
         "name": "r_pu",
         "rawType": "float64",
         "type": "float"
        },
        {
         "name": "r_pu_eff",
         "rawType": "float64",
         "type": "float"
        },
        {
         "name": "ramp_limit_down",
         "rawType": "float64",
         "type": "float"
        },
        {
         "name": "ramp_limit_shut_down",
         "rawType": "float64",
         "type": "float"
        },
        {
         "name": "ramp_limit_start_up",
         "rawType": "float64",
         "type": "float"
        },
        {
         "name": "ramp_limit_up",
         "rawType": "float64",
         "type": "float"
        },
        {
         "name": "s_max_pu",
         "rawType": "float64",
         "type": "float"
        },
        {
         "name": "s_nom",
         "rawType": "float64",
         "type": "float"
        },
        {
         "name": "s_nom_extendable",
         "rawType": "object",
         "type": "unknown"
        },
        {
         "name": "s_nom_max",
         "rawType": "float64",
         "type": "float"
        },
        {
         "name": "s_nom_min",
         "rawType": "float64",
         "type": "float"
        },
        {
         "name": "s_nom_mod",
         "rawType": "float64",
         "type": "float"
        },
        {
         "name": "s_nom_opt",
         "rawType": "float64",
         "type": "float"
        },
        {
         "name": "shut_down_cost",
         "rawType": "float64",
         "type": "float"
        },
        {
         "name": "stand_by_cost",
         "rawType": "float64",
         "type": "float"
        },
        {
         "name": "start_up_cost",
         "rawType": "float64",
         "type": "float"
        },
        {
         "name": "sub_network",
         "rawType": "object",
         "type": "string"
        },
        {
         "name": "tap_position",
         "rawType": "float64",
         "type": "float"
        },
        {
         "name": "tap_ratio",
         "rawType": "float64",
         "type": "float"
        },
        {
         "name": "tap_side",
         "rawType": "float64",
         "type": "float"
        },
        {
         "name": "terrain_factor",
         "rawType": "float64",
         "type": "float"
        },
        {
         "name": "type",
         "rawType": "object",
         "type": "string"
        },
        {
         "name": "up_time_before",
         "rawType": "float64",
         "type": "float"
        },
        {
         "name": "v_ang_max",
         "rawType": "float64",
         "type": "float"
        },
        {
         "name": "v_ang_min",
         "rawType": "float64",
         "type": "float"
        },
        {
         "name": "v_nom",
         "rawType": "float64",
         "type": "float"
        },
        {
         "name": "x",
         "rawType": "float64",
         "type": "float"
        },
        {
         "name": "x_pu",
         "rawType": "float64",
         "type": "float"
        },
        {
         "name": "x_pu_eff",
         "rawType": "float64",
         "type": "float"
        }
       ],
       "ref": "01f3b743-822e-41ef-86a9-10fd6c2d372c",
       "rows": [
        [
         "('Transformer', 'Transformer 1')",
         "True",
         "0.0",
         "0.0",
         "0",
         "Bus 1",
         "Bus 4",
         "0.0",
         null,
         null,
         null,
         null,
         "0.0",
         "0.0",
         null,
         "inf",
         null,
         null,
         null,
         null,
         "t",
         "1.0",
         null,
         null,
         null,
         null,
         null,
         null,
         null,
         null,
         null,
         "0.0",
         "0.0",
         "0.0",
         "0.0",
         null,
         null,
         null,
         null,
         "1.0",
         "1.0",
         "False",
         "inf",
         "0.0",
         "0.0",
         "0.0",
         null,
         null,
         null,
         "0",
         "0.0",
         "1.0",
         "0.0",
         null,
         "",
         null,
         "inf",
         "-inf",
         null,
         "0.0576",
         "0.0576",
         "0.0576"
        ],
        [
         "('Transformer', 'Transformer 2')",
         "True",
         "0.0",
         "0.0",
         "0",
         "Bus 2",
         "Bus 7",
         "0.0",
         null,
         null,
         null,
         null,
         "0.0",
         "0.0",
         null,
         "inf",
         null,
         null,
         null,
         null,
         "t",
         "1.0",
         null,
         null,
         null,
         null,
         null,
         null,
         null,
         null,
         null,
         "0.0",
         "0.0",
         "0.0",
         "0.0",
         null,
         null,
         null,
         null,
         "1.0",
         "1.0",
         "False",
         "inf",
         "0.0",
         "0.0",
         "0.0",
         null,
         null,
         null,
         "0",
         "0.0",
         "1.0",
         "0.0",
         null,
         "",
         null,
         "inf",
         "-inf",
         null,
         "0.0625",
         "0.0625",
         "0.0625"
        ],
        [
         "('Transformer', 'Transformer 3')",
         "True",
         "0.0",
         "0.0",
         "0",
         "Bus 3",
         "Bus 9",
         "0.0",
         null,
         null,
         null,
         null,
         "0.0",
         "0.0",
         null,
         "inf",
         null,
         null,
         null,
         null,
         "t",
         "1.0",
         null,
         null,
         null,
         null,
         null,
         null,
         null,
         null,
         null,
         "0.0",
         "0.0",
         "0.0",
         "0.0",
         null,
         null,
         null,
         null,
         "1.0",
         "1.0",
         "False",
         "inf",
         "0.0",
         "0.0",
         "0.0",
         null,
         null,
         null,
         "0",
         "0.0",
         "1.0",
         "0.0",
         null,
         "",
         null,
         "inf",
         "-inf",
         null,
         "0.0586",
         "0.0586",
         "0.0586"
        ],
        [
         "('Line', 'Line 45')",
         "True",
         "3.32703213610586e-06",
         "0.176",
         "0",
         "Bus 4",
         "Bus 5",
         "0.0",
         "AC",
         null,
         null,
         null,
         "0.0",
         "0.0",
         "0.0",
         "inf",
         null,
         null,
         null,
         null,
         null,
         "1.0",
         null,
         null,
         null,
         null,
         null,
         null,
         null,
         null,
         null,
         null,
         "529.0",
         "0.01",
         "0.01",
         null,
         null,
         null,
         null,
         "1.0",
         "0.0",
         "False",
         "inf",
         "0.0",
         "0.0",
         "0.0",
         null,
         null,
         null,
         "0",
         null,
         null,
         null,
         "1.0",
         "",
         null,
         "inf",
         "-inf",
         "230.0",
         "4496.5",
         "0.085",
         "0.085"
        ],
        [
         "('Line', 'Line 46')",
         "True",
         "2.9867674858223064e-06",
         "0.158",
         "0",
         "Bus 4",
         "Bus 6",
         "0.0",
         "AC",
         null,
         null,
         null,
         "0.0",
         "0.0",
         "0.0",
         "inf",
         null,
         null,
         null,
         null,
         null,
         "1.0",
         null,
         null,
         null,
         null,
         null,
         null,
         null,
         null,
         null,
         null,
         "899.3000000000001",
         "0.017",
         "0.017",
         null,
         null,
         null,
         null,
         "1.0",
         "0.0",
         "False",
         "inf",
         "0.0",
         "0.0",
         "0.0",
         null,
         null,
         null,
         "0",
         null,
         null,
         null,
         "1.0",
         "",
         null,
         "inf",
         "-inf",
         "230.0",
         "4866.8",
         "0.092",
         "0.092"
        ],
        [
         "('Line', 'Line 69')",
         "True",
         "6.767485822306238e-06",
         "0.358",
         "0",
         "Bus 6",
         "Bus 9",
         "0.0",
         "AC",
         null,
         null,
         null,
         "0.0",
         "0.0",
         "0.0",
         "inf",
         null,
         null,
         null,
         null,
         null,
         "1.0",
         null,
         null,
         null,
         null,
         null,
         null,
         null,
         null,
         null,
         null,
         "2063.1",
         "0.039",
         "0.039",
         null,
         null,
         null,
         null,
         "1.0",
         "0.0",
         "False",
         "inf",
         "0.0",
         "0.0",
         "0.0",
         null,
         null,
         null,
         "0",
         null,
         null,
         null,
         "1.0",
         "",
         null,
         "inf",
         "-inf",
         "230.0",
         "8993.0",
         "0.17",
         "0.17"
        ],
        [
         "('Line', 'Line 57')",
         "True",
         "5.784499054820415e-06",
         "0.306",
         "0",
         "Bus 5",
         "Bus 7",
         "0.0",
         "AC",
         null,
         null,
         null,
         "0.0",
         "0.0",
         "0.0",
         "inf",
         null,
         null,
         null,
         null,
         null,
         "1.0",
         null,
         null,
         null,
         null,
         null,
         null,
         null,
         null,
         null,
         null,
         "1692.8",
         "0.032",
         "0.032",
         null,
         null,
         null,
         null,
         "1.0",
         "0.0",
         "False",
         "inf",
         "0.0",
         "0.0",
         "0.0",
         null,
         null,
         null,
         "0",
         null,
         null,
         null,
         "1.0",
         "",
         null,
         "inf",
         "-inf",
         "230.0",
         "8516.9",
         "0.161",
         "0.161"
        ],
        [
         "('Line', 'Line 98')",
         "True",
         "3.9508506616257085e-06",
         "0.209",
         "0",
         "Bus 9",
         "Bus 8",
         "0.0",
         "AC",
         null,
         null,
         null,
         "0.0",
         "0.0",
         "0.0",
         "inf",
         null,
         null,
         null,
         null,
         null,
         "1.0",
         null,
         null,
         null,
         null,
         null,
         null,
         null,
         null,
         null,
         null,
         "629.51",
         "0.011899999999999999",
         "0.011899999999999999",
         null,
         null,
         null,
         null,
         "1.0",
         "0.0",
         "False",
         "inf",
         "0.0",
         "0.0",
         "0.0",
         null,
         null,
         null,
         "0",
         null,
         null,
         null,
         "1.0",
         "",
         null,
         "inf",
         "-inf",
         "230.0",
         "5332.32",
         "0.1008",
         "0.1008"
        ],
        [
         "('Line', 'Line 78')",
         "True",
         "2.816635160680529e-06",
         "0.149",
         "0",
         "Bus 7",
         "Bus 8",
         "0.0",
         "AC",
         null,
         null,
         null,
         "0.0",
         "0.0",
         "0.0",
         "inf",
         null,
         null,
         null,
         null,
         null,
         "1.0",
         null,
         null,
         null,
         null,
         null,
         null,
         null,
         null,
         null,
         null,
         "449.65000000000003",
         "0.0085",
         "0.0085",
         null,
         null,
         null,
         null,
         "1.0",
         "0.0",
         "False",
         "inf",
         "0.0",
         "0.0",
         "0.0",
         null,
         null,
         null,
         "0",
         null,
         null,
         null,
         "1.0",
         "",
         null,
         "inf",
         "-inf",
         "230.0",
         "3808.7999999999997",
         "0.072",
         "0.072"
        ]
       ],
       "shape": {
        "columns": 61,
        "rows": 9
       }
      },
      "text/html": [
       "<div>\n",
       "<style scoped>\n",
       "    .dataframe tbody tr th:only-of-type {\n",
       "        vertical-align: middle;\n",
       "    }\n",
       "\n",
       "    .dataframe tbody tr th {\n",
       "        vertical-align: top;\n",
       "    }\n",
       "\n",
       "    .dataframe thead th {\n",
       "        text-align: right;\n",
       "    }\n",
       "</style>\n",
       "<table border=\"1\" class=\"dataframe\">\n",
       "  <thead>\n",
       "    <tr style=\"text-align: right;\">\n",
       "      <th></th>\n",
       "      <th></th>\n",
       "      <th>active</th>\n",
       "      <th>b</th>\n",
       "      <th>b_pu</th>\n",
       "      <th>build_year</th>\n",
       "      <th>bus0</th>\n",
       "      <th>bus1</th>\n",
       "      <th>capital_cost</th>\n",
       "      <th>carrier</th>\n",
       "      <th>committable</th>\n",
       "      <th>down_time_before</th>\n",
       "      <th>...</th>\n",
       "      <th>tap_side</th>\n",
       "      <th>terrain_factor</th>\n",
       "      <th>type</th>\n",
       "      <th>up_time_before</th>\n",
       "      <th>v_ang_max</th>\n",
       "      <th>v_ang_min</th>\n",
       "      <th>v_nom</th>\n",
       "      <th>x</th>\n",
       "      <th>x_pu</th>\n",
       "      <th>x_pu_eff</th>\n",
       "    </tr>\n",
       "    <tr>\n",
       "      <th>component</th>\n",
       "      <th>name</th>\n",
       "      <th></th>\n",
       "      <th></th>\n",
       "      <th></th>\n",
       "      <th></th>\n",
       "      <th></th>\n",
       "      <th></th>\n",
       "      <th></th>\n",
       "      <th></th>\n",
       "      <th></th>\n",
       "      <th></th>\n",
       "      <th></th>\n",
       "      <th></th>\n",
       "      <th></th>\n",
       "      <th></th>\n",
       "      <th></th>\n",
       "      <th></th>\n",
       "      <th></th>\n",
       "      <th></th>\n",
       "      <th></th>\n",
       "      <th></th>\n",
       "      <th></th>\n",
       "    </tr>\n",
       "  </thead>\n",
       "  <tbody>\n",
       "    <tr>\n",
       "      <th rowspan=\"3\" valign=\"top\">Transformer</th>\n",
       "      <th>Transformer 1</th>\n",
       "      <td>True</td>\n",
       "      <td>0.000000</td>\n",
       "      <td>0.000</td>\n",
       "      <td>0</td>\n",
       "      <td>Bus 1</td>\n",
       "      <td>Bus 4</td>\n",
       "      <td>0.0</td>\n",
       "      <td>NaN</td>\n",
       "      <td>NaN</td>\n",
       "      <td>NaN</td>\n",
       "      <td>...</td>\n",
       "      <td>0.0</td>\n",
       "      <td>NaN</td>\n",
       "      <td></td>\n",
       "      <td>NaN</td>\n",
       "      <td>inf</td>\n",
       "      <td>-inf</td>\n",
       "      <td>NaN</td>\n",
       "      <td>0.0576</td>\n",
       "      <td>0.0576</td>\n",
       "      <td>0.0576</td>\n",
       "    </tr>\n",
       "    <tr>\n",
       "      <th>Transformer 2</th>\n",
       "      <td>True</td>\n",
       "      <td>0.000000</td>\n",
       "      <td>0.000</td>\n",
       "      <td>0</td>\n",
       "      <td>Bus 2</td>\n",
       "      <td>Bus 7</td>\n",
       "      <td>0.0</td>\n",
       "      <td>NaN</td>\n",
       "      <td>NaN</td>\n",
       "      <td>NaN</td>\n",
       "      <td>...</td>\n",
       "      <td>0.0</td>\n",
       "      <td>NaN</td>\n",
       "      <td></td>\n",
       "      <td>NaN</td>\n",
       "      <td>inf</td>\n",
       "      <td>-inf</td>\n",
       "      <td>NaN</td>\n",
       "      <td>0.0625</td>\n",
       "      <td>0.0625</td>\n",
       "      <td>0.0625</td>\n",
       "    </tr>\n",
       "    <tr>\n",
       "      <th>Transformer 3</th>\n",
       "      <td>True</td>\n",
       "      <td>0.000000</td>\n",
       "      <td>0.000</td>\n",
       "      <td>0</td>\n",
       "      <td>Bus 3</td>\n",
       "      <td>Bus 9</td>\n",
       "      <td>0.0</td>\n",
       "      <td>NaN</td>\n",
       "      <td>NaN</td>\n",
       "      <td>NaN</td>\n",
       "      <td>...</td>\n",
       "      <td>0.0</td>\n",
       "      <td>NaN</td>\n",
       "      <td></td>\n",
       "      <td>NaN</td>\n",
       "      <td>inf</td>\n",
       "      <td>-inf</td>\n",
       "      <td>NaN</td>\n",
       "      <td>0.0586</td>\n",
       "      <td>0.0586</td>\n",
       "      <td>0.0586</td>\n",
       "    </tr>\n",
       "    <tr>\n",
       "      <th rowspan=\"6\" valign=\"top\">Line</th>\n",
       "      <th>Line 45</th>\n",
       "      <td>True</td>\n",
       "      <td>0.000003</td>\n",
       "      <td>0.176</td>\n",
       "      <td>0</td>\n",
       "      <td>Bus 4</td>\n",
       "      <td>Bus 5</td>\n",
       "      <td>0.0</td>\n",
       "      <td>AC</td>\n",
       "      <td>NaN</td>\n",
       "      <td>NaN</td>\n",
       "      <td>...</td>\n",
       "      <td>NaN</td>\n",
       "      <td>1.0</td>\n",
       "      <td></td>\n",
       "      <td>NaN</td>\n",
       "      <td>inf</td>\n",
       "      <td>-inf</td>\n",
       "      <td>230.0</td>\n",
       "      <td>4496.5000</td>\n",
       "      <td>0.0850</td>\n",
       "      <td>0.0850</td>\n",
       "    </tr>\n",
       "    <tr>\n",
       "      <th>Line 46</th>\n",
       "      <td>True</td>\n",
       "      <td>0.000003</td>\n",
       "      <td>0.158</td>\n",
       "      <td>0</td>\n",
       "      <td>Bus 4</td>\n",
       "      <td>Bus 6</td>\n",
       "      <td>0.0</td>\n",
       "      <td>AC</td>\n",
       "      <td>NaN</td>\n",
       "      <td>NaN</td>\n",
       "      <td>...</td>\n",
       "      <td>NaN</td>\n",
       "      <td>1.0</td>\n",
       "      <td></td>\n",
       "      <td>NaN</td>\n",
       "      <td>inf</td>\n",
       "      <td>-inf</td>\n",
       "      <td>230.0</td>\n",
       "      <td>4866.8000</td>\n",
       "      <td>0.0920</td>\n",
       "      <td>0.0920</td>\n",
       "    </tr>\n",
       "    <tr>\n",
       "      <th>Line 69</th>\n",
       "      <td>True</td>\n",
       "      <td>0.000007</td>\n",
       "      <td>0.358</td>\n",
       "      <td>0</td>\n",
       "      <td>Bus 6</td>\n",
       "      <td>Bus 9</td>\n",
       "      <td>0.0</td>\n",
       "      <td>AC</td>\n",
       "      <td>NaN</td>\n",
       "      <td>NaN</td>\n",
       "      <td>...</td>\n",
       "      <td>NaN</td>\n",
       "      <td>1.0</td>\n",
       "      <td></td>\n",
       "      <td>NaN</td>\n",
       "      <td>inf</td>\n",
       "      <td>-inf</td>\n",
       "      <td>230.0</td>\n",
       "      <td>8993.0000</td>\n",
       "      <td>0.1700</td>\n",
       "      <td>0.1700</td>\n",
       "    </tr>\n",
       "    <tr>\n",
       "      <th>Line 57</th>\n",
       "      <td>True</td>\n",
       "      <td>0.000006</td>\n",
       "      <td>0.306</td>\n",
       "      <td>0</td>\n",
       "      <td>Bus 5</td>\n",
       "      <td>Bus 7</td>\n",
       "      <td>0.0</td>\n",
       "      <td>AC</td>\n",
       "      <td>NaN</td>\n",
       "      <td>NaN</td>\n",
       "      <td>...</td>\n",
       "      <td>NaN</td>\n",
       "      <td>1.0</td>\n",
       "      <td></td>\n",
       "      <td>NaN</td>\n",
       "      <td>inf</td>\n",
       "      <td>-inf</td>\n",
       "      <td>230.0</td>\n",
       "      <td>8516.9000</td>\n",
       "      <td>0.1610</td>\n",
       "      <td>0.1610</td>\n",
       "    </tr>\n",
       "    <tr>\n",
       "      <th>Line 98</th>\n",
       "      <td>True</td>\n",
       "      <td>0.000004</td>\n",
       "      <td>0.209</td>\n",
       "      <td>0</td>\n",
       "      <td>Bus 9</td>\n",
       "      <td>Bus 8</td>\n",
       "      <td>0.0</td>\n",
       "      <td>AC</td>\n",
       "      <td>NaN</td>\n",
       "      <td>NaN</td>\n",
       "      <td>...</td>\n",
       "      <td>NaN</td>\n",
       "      <td>1.0</td>\n",
       "      <td></td>\n",
       "      <td>NaN</td>\n",
       "      <td>inf</td>\n",
       "      <td>-inf</td>\n",
       "      <td>230.0</td>\n",
       "      <td>5332.3200</td>\n",
       "      <td>0.1008</td>\n",
       "      <td>0.1008</td>\n",
       "    </tr>\n",
       "    <tr>\n",
       "      <th>Line 78</th>\n",
       "      <td>True</td>\n",
       "      <td>0.000003</td>\n",
       "      <td>0.149</td>\n",
       "      <td>0</td>\n",
       "      <td>Bus 7</td>\n",
       "      <td>Bus 8</td>\n",
       "      <td>0.0</td>\n",
       "      <td>AC</td>\n",
       "      <td>NaN</td>\n",
       "      <td>NaN</td>\n",
       "      <td>...</td>\n",
       "      <td>NaN</td>\n",
       "      <td>1.0</td>\n",
       "      <td></td>\n",
       "      <td>NaN</td>\n",
       "      <td>inf</td>\n",
       "      <td>-inf</td>\n",
       "      <td>230.0</td>\n",
       "      <td>3808.8000</td>\n",
       "      <td>0.0720</td>\n",
       "      <td>0.0720</td>\n",
       "    </tr>\n",
       "  </tbody>\n",
       "</table>\n",
       "<p>9 rows × 61 columns</p>\n",
       "</div>"
      ],
      "text/plain": [
       "                           active         b   b_pu  build_year   bus0   bus1  \\\n",
       "component   name                                                               \n",
       "Transformer Transformer 1    True  0.000000  0.000           0  Bus 1  Bus 4   \n",
       "            Transformer 2    True  0.000000  0.000           0  Bus 2  Bus 7   \n",
       "            Transformer 3    True  0.000000  0.000           0  Bus 3  Bus 9   \n",
       "Line        Line 45          True  0.000003  0.176           0  Bus 4  Bus 5   \n",
       "            Line 46          True  0.000003  0.158           0  Bus 4  Bus 6   \n",
       "            Line 69          True  0.000007  0.358           0  Bus 6  Bus 9   \n",
       "            Line 57          True  0.000006  0.306           0  Bus 5  Bus 7   \n",
       "            Line 98          True  0.000004  0.209           0  Bus 9  Bus 8   \n",
       "            Line 78          True  0.000003  0.149           0  Bus 7  Bus 8   \n",
       "\n",
       "                           capital_cost carrier committable  down_time_before  \\\n",
       "component   name                                                                \n",
       "Transformer Transformer 1           0.0     NaN         NaN               NaN   \n",
       "            Transformer 2           0.0     NaN         NaN               NaN   \n",
       "            Transformer 3           0.0     NaN         NaN               NaN   \n",
       "Line        Line 45                 0.0      AC         NaN               NaN   \n",
       "            Line 46                 0.0      AC         NaN               NaN   \n",
       "            Line 69                 0.0      AC         NaN               NaN   \n",
       "            Line 57                 0.0      AC         NaN               NaN   \n",
       "            Line 98                 0.0      AC         NaN               NaN   \n",
       "            Line 78                 0.0      AC         NaN               NaN   \n",
       "\n",
       "                           ...  tap_side  terrain_factor  type  \\\n",
       "component   name           ...                                   \n",
       "Transformer Transformer 1  ...       0.0             NaN         \n",
       "            Transformer 2  ...       0.0             NaN         \n",
       "            Transformer 3  ...       0.0             NaN         \n",
       "Line        Line 45        ...       NaN             1.0         \n",
       "            Line 46        ...       NaN             1.0         \n",
       "            Line 69        ...       NaN             1.0         \n",
       "            Line 57        ...       NaN             1.0         \n",
       "            Line 98        ...       NaN             1.0         \n",
       "            Line 78        ...       NaN             1.0         \n",
       "\n",
       "                           up_time_before  v_ang_max  v_ang_min  v_nom  \\\n",
       "component   name                                                         \n",
       "Transformer Transformer 1             NaN        inf       -inf    NaN   \n",
       "            Transformer 2             NaN        inf       -inf    NaN   \n",
       "            Transformer 3             NaN        inf       -inf    NaN   \n",
       "Line        Line 45                   NaN        inf       -inf  230.0   \n",
       "            Line 46                   NaN        inf       -inf  230.0   \n",
       "            Line 69                   NaN        inf       -inf  230.0   \n",
       "            Line 57                   NaN        inf       -inf  230.0   \n",
       "            Line 98                   NaN        inf       -inf  230.0   \n",
       "            Line 78                   NaN        inf       -inf  230.0   \n",
       "\n",
       "                                   x    x_pu x_pu_eff  \n",
       "component   name                                       \n",
       "Transformer Transformer 1     0.0576  0.0576   0.0576  \n",
       "            Transformer 2     0.0625  0.0625   0.0625  \n",
       "            Transformer 3     0.0586  0.0586   0.0586  \n",
       "Line        Line 45        4496.5000  0.0850   0.0850  \n",
       "            Line 46        4866.8000  0.0920   0.0920  \n",
       "            Line 69        8993.0000  0.1700   0.1700  \n",
       "            Line 57        8516.9000  0.1610   0.1610  \n",
       "            Line 98        5332.3200  0.1008   0.1008  \n",
       "            Line 78        3808.8000  0.0720   0.0720  \n",
       "\n",
       "[9 rows x 61 columns]"
      ]
     },
     "execution_count": 274,
     "metadata": {},
     "output_type": "execute_result"
    }
   ],
   "source": [
    "grid.branches()"
   ]
  },
  {
   "cell_type": "code",
   "execution_count": 275,
   "metadata": {},
   "outputs": [
    {
     "data": {
      "application/vnd.microsoft.datawrangler.viewer.v0+json": {
       "columns": [
        {
         "name": "snapshot",
         "rawType": "object",
         "type": "string"
        },
        {
         "name": "Generator 1",
         "rawType": "float64",
         "type": "float"
        },
        {
         "name": "Generator 2",
         "rawType": "float64",
         "type": "float"
        },
        {
         "name": "Generator 3",
         "rawType": "float64",
         "type": "float"
        }
       ],
       "ref": "950cf7d7-f0d8-4e3b-9666-3fe3bba9769d",
       "rows": [
        [
         "now",
         "0.7164102147176565",
         "1.63",
         "0.85"
        ]
       ],
       "shape": {
        "columns": 3,
        "rows": 1
       }
      },
      "text/html": [
       "<div>\n",
       "<style scoped>\n",
       "    .dataframe tbody tr th:only-of-type {\n",
       "        vertical-align: middle;\n",
       "    }\n",
       "\n",
       "    .dataframe tbody tr th {\n",
       "        vertical-align: top;\n",
       "    }\n",
       "\n",
       "    .dataframe thead th {\n",
       "        text-align: right;\n",
       "    }\n",
       "</style>\n",
       "<table border=\"1\" class=\"dataframe\">\n",
       "  <thead>\n",
       "    <tr style=\"text-align: right;\">\n",
       "      <th>Generator</th>\n",
       "      <th>Generator 1</th>\n",
       "      <th>Generator 2</th>\n",
       "      <th>Generator 3</th>\n",
       "    </tr>\n",
       "    <tr>\n",
       "      <th>snapshot</th>\n",
       "      <th></th>\n",
       "      <th></th>\n",
       "      <th></th>\n",
       "    </tr>\n",
       "  </thead>\n",
       "  <tbody>\n",
       "    <tr>\n",
       "      <th>now</th>\n",
       "      <td>0.71641</td>\n",
       "      <td>1.63</td>\n",
       "      <td>0.85</td>\n",
       "    </tr>\n",
       "  </tbody>\n",
       "</table>\n",
       "</div>"
      ],
      "text/plain": [
       "Generator  Generator 1  Generator 2  Generator 3\n",
       "snapshot                                        \n",
       "now            0.71641         1.63         0.85"
      ]
     },
     "execution_count": 275,
     "metadata": {},
     "output_type": "execute_result"
    }
   ],
   "source": [
    "grid.generators_t.p"
   ]
  },
  {
   "cell_type": "code",
   "execution_count": 276,
   "metadata": {},
   "outputs": [
    {
     "data": {
      "application/vnd.microsoft.datawrangler.viewer.v0+json": {
       "columns": [
        {
         "name": "snapshot",
         "rawType": "object",
         "type": "string"
        },
        {
         "name": "Generator 1",
         "rawType": "float64",
         "type": "float"
        },
        {
         "name": "Generator 2",
         "rawType": "float64",
         "type": "float"
        },
        {
         "name": "Generator 3",
         "rawType": "float64",
         "type": "float"
        }
       ],
       "ref": "0de7d814-ff0e-48ce-9975-c827da1aff8b",
       "rows": [
        [
         "now",
         "0.270459235223251",
         "0.06653660310182082",
         "-0.10859709080378976"
        ]
       ],
       "shape": {
        "columns": 3,
        "rows": 1
       }
      },
      "text/html": [
       "<div>\n",
       "<style scoped>\n",
       "    .dataframe tbody tr th:only-of-type {\n",
       "        vertical-align: middle;\n",
       "    }\n",
       "\n",
       "    .dataframe tbody tr th {\n",
       "        vertical-align: top;\n",
       "    }\n",
       "\n",
       "    .dataframe thead th {\n",
       "        text-align: right;\n",
       "    }\n",
       "</style>\n",
       "<table border=\"1\" class=\"dataframe\">\n",
       "  <thead>\n",
       "    <tr style=\"text-align: right;\">\n",
       "      <th>Generator</th>\n",
       "      <th>Generator 1</th>\n",
       "      <th>Generator 2</th>\n",
       "      <th>Generator 3</th>\n",
       "    </tr>\n",
       "    <tr>\n",
       "      <th>snapshot</th>\n",
       "      <th></th>\n",
       "      <th></th>\n",
       "      <th></th>\n",
       "    </tr>\n",
       "  </thead>\n",
       "  <tbody>\n",
       "    <tr>\n",
       "      <th>now</th>\n",
       "      <td>0.270459</td>\n",
       "      <td>0.066537</td>\n",
       "      <td>-0.108597</td>\n",
       "    </tr>\n",
       "  </tbody>\n",
       "</table>\n",
       "</div>"
      ],
      "text/plain": [
       "Generator  Generator 1  Generator 2  Generator 3\n",
       "snapshot                                        \n",
       "now           0.270459     0.066537    -0.108597"
      ]
     },
     "execution_count": 276,
     "metadata": {},
     "output_type": "execute_result"
    }
   ],
   "source": [
    "grid.generators_t.q"
   ]
  },
  {
   "cell_type": "code",
   "execution_count": 277,
   "metadata": {},
   "outputs": [
    {
     "data": {
      "text/plain": [
       "(Load      Load 5  Load 6  Load 8\n",
       " snapshot                        \n",
       " now         1.25     0.9     1.0,\n",
       " Load      Load 5  Load 6  Load 8\n",
       " snapshot                        \n",
       " now          0.5     0.3    0.35)"
      ]
     },
     "execution_count": 277,
     "metadata": {},
     "output_type": "execute_result"
    }
   ],
   "source": [
    "grid.loads_t.p, grid.loads_t.q"
   ]
  },
  {
   "cell_type": "code",
   "execution_count": 278,
   "metadata": {},
   "outputs": [
    {
     "data": {
      "application/vnd.microsoft.datawrangler.viewer.v0+json": {
       "columns": [
        {
         "name": "snapshot",
         "rawType": "object",
         "type": "string"
        },
        {
         "name": "Bus 1",
         "rawType": "float64",
         "type": "float"
        },
        {
         "name": "Bus 2",
         "rawType": "float64",
         "type": "float"
        },
        {
         "name": "Bus 3",
         "rawType": "float64",
         "type": "float"
        },
        {
         "name": "Bus 4",
         "rawType": "float64",
         "type": "float"
        },
        {
         "name": "Bus 5",
         "rawType": "float64",
         "type": "float"
        },
        {
         "name": "Bus 6",
         "rawType": "float64",
         "type": "float"
        },
        {
         "name": "Bus 7",
         "rawType": "float64",
         "type": "float"
        },
        {
         "name": "Bus 8",
         "rawType": "float64",
         "type": "float"
        },
        {
         "name": "Bus 9",
         "rawType": "float64",
         "type": "float"
        }
       ],
       "ref": "8b7471e0-78d6-4946-9638-15ff9626fb0f",
       "rows": [
        [
         "now",
         "0.7164102147176565",
         "1.63",
         "0.85",
         "0.0",
         "-1.25",
         "-0.9",
         "0.0",
         "-1.0",
         "0.0"
        ]
       ],
       "shape": {
        "columns": 9,
        "rows": 1
       }
      },
      "text/html": [
       "<div>\n",
       "<style scoped>\n",
       "    .dataframe tbody tr th:only-of-type {\n",
       "        vertical-align: middle;\n",
       "    }\n",
       "\n",
       "    .dataframe tbody tr th {\n",
       "        vertical-align: top;\n",
       "    }\n",
       "\n",
       "    .dataframe thead th {\n",
       "        text-align: right;\n",
       "    }\n",
       "</style>\n",
       "<table border=\"1\" class=\"dataframe\">\n",
       "  <thead>\n",
       "    <tr style=\"text-align: right;\">\n",
       "      <th>Bus</th>\n",
       "      <th>Bus 1</th>\n",
       "      <th>Bus 2</th>\n",
       "      <th>Bus 3</th>\n",
       "      <th>Bus 4</th>\n",
       "      <th>Bus 5</th>\n",
       "      <th>Bus 6</th>\n",
       "      <th>Bus 7</th>\n",
       "      <th>Bus 8</th>\n",
       "      <th>Bus 9</th>\n",
       "    </tr>\n",
       "    <tr>\n",
       "      <th>snapshot</th>\n",
       "      <th></th>\n",
       "      <th></th>\n",
       "      <th></th>\n",
       "      <th></th>\n",
       "      <th></th>\n",
       "      <th></th>\n",
       "      <th></th>\n",
       "      <th></th>\n",
       "      <th></th>\n",
       "    </tr>\n",
       "  </thead>\n",
       "  <tbody>\n",
       "    <tr>\n",
       "      <th>now</th>\n",
       "      <td>0.71641</td>\n",
       "      <td>1.63</td>\n",
       "      <td>0.85</td>\n",
       "      <td>0.0</td>\n",
       "      <td>-1.25</td>\n",
       "      <td>-0.9</td>\n",
       "      <td>0.0</td>\n",
       "      <td>-1.0</td>\n",
       "      <td>0.0</td>\n",
       "    </tr>\n",
       "  </tbody>\n",
       "</table>\n",
       "</div>"
      ],
      "text/plain": [
       "Bus         Bus 1  Bus 2  Bus 3  Bus 4  Bus 5  Bus 6  Bus 7  Bus 8  Bus 9\n",
       "snapshot                                                                 \n",
       "now       0.71641   1.63   0.85    0.0  -1.25   -0.9    0.0   -1.0    0.0"
      ]
     },
     "execution_count": 278,
     "metadata": {},
     "output_type": "execute_result"
    }
   ],
   "source": [
    "grid.buses_t.p"
   ]
  },
  {
   "cell_type": "code",
   "execution_count": 279,
   "metadata": {},
   "outputs": [
    {
     "data": {
      "application/vnd.microsoft.datawrangler.viewer.v0+json": {
       "columns": [
        {
         "name": "snapshot",
         "rawType": "object",
         "type": "string"
        },
        {
         "name": "Bus 1",
         "rawType": "float64",
         "type": "float"
        },
        {
         "name": "Bus 2",
         "rawType": "float64",
         "type": "float"
        },
        {
         "name": "Bus 3",
         "rawType": "float64",
         "type": "float"
        },
        {
         "name": "Bus 4",
         "rawType": "float64",
         "type": "float"
        },
        {
         "name": "Bus 5",
         "rawType": "float64",
         "type": "float"
        },
        {
         "name": "Bus 6",
         "rawType": "float64",
         "type": "float"
        },
        {
         "name": "Bus 7",
         "rawType": "float64",
         "type": "float"
        },
        {
         "name": "Bus 8",
         "rawType": "float64",
         "type": "float"
        },
        {
         "name": "Bus 9",
         "rawType": "float64",
         "type": "float"
        }
       ],
       "ref": "4296bfe1-d971-42a2-9f6c-84c775c0ce6a",
       "rows": [
        [
         "now",
         "0.270459235223251",
         "0.06653660310182082",
         "-0.10859709080378976",
         "0.0",
         "-0.5",
         "-0.3",
         "0.0",
         "-0.35",
         "0.0"
        ]
       ],
       "shape": {
        "columns": 9,
        "rows": 1
       }
      },
      "text/html": [
       "<div>\n",
       "<style scoped>\n",
       "    .dataframe tbody tr th:only-of-type {\n",
       "        vertical-align: middle;\n",
       "    }\n",
       "\n",
       "    .dataframe tbody tr th {\n",
       "        vertical-align: top;\n",
       "    }\n",
       "\n",
       "    .dataframe thead th {\n",
       "        text-align: right;\n",
       "    }\n",
       "</style>\n",
       "<table border=\"1\" class=\"dataframe\">\n",
       "  <thead>\n",
       "    <tr style=\"text-align: right;\">\n",
       "      <th>Bus</th>\n",
       "      <th>Bus 1</th>\n",
       "      <th>Bus 2</th>\n",
       "      <th>Bus 3</th>\n",
       "      <th>Bus 4</th>\n",
       "      <th>Bus 5</th>\n",
       "      <th>Bus 6</th>\n",
       "      <th>Bus 7</th>\n",
       "      <th>Bus 8</th>\n",
       "      <th>Bus 9</th>\n",
       "    </tr>\n",
       "    <tr>\n",
       "      <th>snapshot</th>\n",
       "      <th></th>\n",
       "      <th></th>\n",
       "      <th></th>\n",
       "      <th></th>\n",
       "      <th></th>\n",
       "      <th></th>\n",
       "      <th></th>\n",
       "      <th></th>\n",
       "      <th></th>\n",
       "    </tr>\n",
       "  </thead>\n",
       "  <tbody>\n",
       "    <tr>\n",
       "      <th>now</th>\n",
       "      <td>0.270459</td>\n",
       "      <td>0.066537</td>\n",
       "      <td>-0.108597</td>\n",
       "      <td>0.0</td>\n",
       "      <td>-0.5</td>\n",
       "      <td>-0.3</td>\n",
       "      <td>0.0</td>\n",
       "      <td>-0.35</td>\n",
       "      <td>0.0</td>\n",
       "    </tr>\n",
       "  </tbody>\n",
       "</table>\n",
       "</div>"
      ],
      "text/plain": [
       "Bus          Bus 1     Bus 2     Bus 3  Bus 4  Bus 5  Bus 6  Bus 7  Bus 8  \\\n",
       "snapshot                                                                    \n",
       "now       0.270459  0.066537 -0.108597    0.0   -0.5   -0.3    0.0  -0.35   \n",
       "\n",
       "Bus       Bus 9  \n",
       "snapshot         \n",
       "now         0.0  "
      ]
     },
     "execution_count": 279,
     "metadata": {},
     "output_type": "execute_result"
    }
   ],
   "source": [
    "grid.buses_t.q"
   ]
  },
  {
   "cell_type": "code",
   "execution_count": 280,
   "metadata": {},
   "outputs": [
    {
     "data": {
      "application/vnd.microsoft.datawrangler.viewer.v0+json": {
       "columns": [
        {
         "name": "snapshot",
         "rawType": "object",
         "type": "string"
        },
        {
         "name": "Bus 1",
         "rawType": "float64",
         "type": "float"
        },
        {
         "name": "Bus 2",
         "rawType": "float64",
         "type": "float"
        },
        {
         "name": "Bus 3",
         "rawType": "float64",
         "type": "float"
        },
        {
         "name": "Bus 4",
         "rawType": "float64",
         "type": "float"
        },
        {
         "name": "Bus 5",
         "rawType": "float64",
         "type": "float"
        },
        {
         "name": "Bus 6",
         "rawType": "float64",
         "type": "float"
        },
        {
         "name": "Bus 7",
         "rawType": "float64",
         "type": "float"
        },
        {
         "name": "Bus 8",
         "rawType": "float64",
         "type": "float"
        },
        {
         "name": "Bus 9",
         "rawType": "float64",
         "type": "float"
        }
       ],
       "ref": "76bf8712-e735-44ef-a930-c35f4dfca795",
       "rows": [
        [
         "now",
         "1.04",
         "1.025",
         "1.025",
         "1.0257883928501326",
         "0.995630858055908",
         "1.0126543240239028",
         "1.0257693723913643",
         "1.0158825836326106",
         "1.032352949007698"
        ]
       ],
       "shape": {
        "columns": 9,
        "rows": 1
       }
      },
      "text/html": [
       "<div>\n",
       "<style scoped>\n",
       "    .dataframe tbody tr th:only-of-type {\n",
       "        vertical-align: middle;\n",
       "    }\n",
       "\n",
       "    .dataframe tbody tr th {\n",
       "        vertical-align: top;\n",
       "    }\n",
       "\n",
       "    .dataframe thead th {\n",
       "        text-align: right;\n",
       "    }\n",
       "</style>\n",
       "<table border=\"1\" class=\"dataframe\">\n",
       "  <thead>\n",
       "    <tr style=\"text-align: right;\">\n",
       "      <th>Bus</th>\n",
       "      <th>Bus 1</th>\n",
       "      <th>Bus 2</th>\n",
       "      <th>Bus 3</th>\n",
       "      <th>Bus 4</th>\n",
       "      <th>Bus 5</th>\n",
       "      <th>Bus 6</th>\n",
       "      <th>Bus 7</th>\n",
       "      <th>Bus 8</th>\n",
       "      <th>Bus 9</th>\n",
       "    </tr>\n",
       "    <tr>\n",
       "      <th>snapshot</th>\n",
       "      <th></th>\n",
       "      <th></th>\n",
       "      <th></th>\n",
       "      <th></th>\n",
       "      <th></th>\n",
       "      <th></th>\n",
       "      <th></th>\n",
       "      <th></th>\n",
       "      <th></th>\n",
       "    </tr>\n",
       "  </thead>\n",
       "  <tbody>\n",
       "    <tr>\n",
       "      <th>now</th>\n",
       "      <td>1.04</td>\n",
       "      <td>1.025</td>\n",
       "      <td>1.025</td>\n",
       "      <td>1.025788</td>\n",
       "      <td>0.995631</td>\n",
       "      <td>1.012654</td>\n",
       "      <td>1.025769</td>\n",
       "      <td>1.015883</td>\n",
       "      <td>1.032353</td>\n",
       "    </tr>\n",
       "  </tbody>\n",
       "</table>\n",
       "</div>"
      ],
      "text/plain": [
       "Bus       Bus 1  Bus 2  Bus 3     Bus 4     Bus 5     Bus 6     Bus 7  \\\n",
       "snapshot                                                                \n",
       "now        1.04  1.025  1.025  1.025788  0.995631  1.012654  1.025769   \n",
       "\n",
       "Bus          Bus 8     Bus 9  \n",
       "snapshot                      \n",
       "now       1.015883  1.032353  "
      ]
     },
     "execution_count": 280,
     "metadata": {},
     "output_type": "execute_result"
    }
   ],
   "source": [
    "grid.buses_t.v_mag_pu"
   ]
  },
  {
   "cell_type": "code",
   "execution_count": 281,
   "metadata": {},
   "outputs": [
    {
     "data": {
      "application/vnd.microsoft.datawrangler.viewer.v0+json": {
       "columns": [
        {
         "name": "snapshot",
         "rawType": "object",
         "type": "string"
        },
        {
         "name": "Bus 1",
         "rawType": "float64",
         "type": "float"
        },
        {
         "name": "Bus 2",
         "rawType": "float64",
         "type": "float"
        },
        {
         "name": "Bus 3",
         "rawType": "float64",
         "type": "float"
        },
        {
         "name": "Bus 4",
         "rawType": "float64",
         "type": "float"
        },
        {
         "name": "Bus 5",
         "rawType": "float64",
         "type": "float"
        },
        {
         "name": "Bus 6",
         "rawType": "float64",
         "type": "float"
        },
        {
         "name": "Bus 7",
         "rawType": "float64",
         "type": "float"
        },
        {
         "name": "Bus 8",
         "rawType": "float64",
         "type": "float"
        },
        {
         "name": "Bus 9",
         "rawType": "float64",
         "type": "float"
        }
       ],
       "ref": "2c38a5fa-6bb3-4654-ad97-47f8f230f04e",
       "rows": [
        [
         "now",
         "0.0",
         "9.280005481574996",
         "4.664751333112733",
         "-2.2167877998524474",
         "-3.988805272507248",
         "-3.6873961698889515",
         "3.7197011546351066",
         "0.7275360770335753",
         "1.9667160744778396"
        ]
       ],
       "shape": {
        "columns": 9,
        "rows": 1
       }
      },
      "text/html": [
       "<div>\n",
       "<style scoped>\n",
       "    .dataframe tbody tr th:only-of-type {\n",
       "        vertical-align: middle;\n",
       "    }\n",
       "\n",
       "    .dataframe tbody tr th {\n",
       "        vertical-align: top;\n",
       "    }\n",
       "\n",
       "    .dataframe thead th {\n",
       "        text-align: right;\n",
       "    }\n",
       "</style>\n",
       "<table border=\"1\" class=\"dataframe\">\n",
       "  <thead>\n",
       "    <tr style=\"text-align: right;\">\n",
       "      <th>Bus</th>\n",
       "      <th>Bus 1</th>\n",
       "      <th>Bus 2</th>\n",
       "      <th>Bus 3</th>\n",
       "      <th>Bus 4</th>\n",
       "      <th>Bus 5</th>\n",
       "      <th>Bus 6</th>\n",
       "      <th>Bus 7</th>\n",
       "      <th>Bus 8</th>\n",
       "      <th>Bus 9</th>\n",
       "    </tr>\n",
       "    <tr>\n",
       "      <th>snapshot</th>\n",
       "      <th></th>\n",
       "      <th></th>\n",
       "      <th></th>\n",
       "      <th></th>\n",
       "      <th></th>\n",
       "      <th></th>\n",
       "      <th></th>\n",
       "      <th></th>\n",
       "      <th></th>\n",
       "    </tr>\n",
       "  </thead>\n",
       "  <tbody>\n",
       "    <tr>\n",
       "      <th>now</th>\n",
       "      <td>0.0</td>\n",
       "      <td>9.280005</td>\n",
       "      <td>4.664751</td>\n",
       "      <td>-2.216788</td>\n",
       "      <td>-3.988805</td>\n",
       "      <td>-3.687396</td>\n",
       "      <td>3.719701</td>\n",
       "      <td>0.727536</td>\n",
       "      <td>1.966716</td>\n",
       "    </tr>\n",
       "  </tbody>\n",
       "</table>\n",
       "</div>"
      ],
      "text/plain": [
       "Bus       Bus 1     Bus 2     Bus 3     Bus 4     Bus 5     Bus 6     Bus 7  \\\n",
       "snapshot                                                                      \n",
       "now         0.0  9.280005  4.664751 -2.216788 -3.988805 -3.687396  3.719701   \n",
       "\n",
       "Bus          Bus 8     Bus 9  \n",
       "snapshot                      \n",
       "now       0.727536  1.966716  "
      ]
     },
     "execution_count": 281,
     "metadata": {},
     "output_type": "execute_result"
    }
   ],
   "source": [
    "grid.buses_t.v_ang * 180 / np.pi"
   ]
  },
  {
   "cell_type": "code",
   "execution_count": 282,
   "metadata": {},
   "outputs": [
    {
     "name": "stderr",
     "output_type": "stream",
     "text": [
      "c:\\Users\\arsla\\miniconda3\\envs\\UCB_ER254\\Lib\\site-packages\\cartopy\\mpl\\feature_artist.py:144: UserWarning: facecolor will have no effect as it has been defined as \"never\".\n",
      "  warnings.warn('facecolor will have no effect as it has been '\n"
     ]
    },
    {
     "data": {
      "text/plain": [
       "(<matplotlib.collections.PatchCollection at 0x1f8f9297790>,\n",
       " <matplotlib.collections.LineCollection at 0x1f8f8787050>,\n",
       " <matplotlib.collections.LineCollection at 0x1f8fa600590>)"
      ]
     },
     "execution_count": 282,
     "metadata": {},
     "output_type": "execute_result"
    },
    {
     "data": {
      "image/png": "[encoded data removed]",
      "text/plain": [
       "<Figure size 640x480 with 1 Axes>"
      ]
     },
     "metadata": {},
     "output_type": "display_data"
    }
   ],
   "source": [
    "grid.plot(bus_sizes=1e-3, title=\"Voltage magnitudes in p.u.\")"
   ]
  },
  {
   "cell_type": "code",
   "execution_count": 283,
   "metadata": {},
   "outputs": [
    {
     "data": {
      "application/vnd.microsoft.datawrangler.viewer.v0+json": {
       "columns": [
        {
         "name": "index",
         "rawType": "object",
         "type": "string"
        },
        {
         "name": "0",
         "rawType": "float64",
         "type": "float"
        }
       ],
       "ref": "1363440b-7f4c-4311-904a-dfb6b404591b",
       "rows": [
        [
         "count",
         "6.0"
        ],
        [
         "mean",
         "-0.9814412922953406"
        ],
        [
         "std",
         "4.503377585034567"
        ],
        [
         "min",
         "-7.708506427142354"
        ],
        [
         "25%",
         "-3.9307891839140274"
        ],
        [
         "50%",
         "1.3548941837403845"
        ],
        [
         "75%",
         "1.6966651970002269"
        ],
        [
         "max",
         "2.9921650776015314"
        ]
       ],
       "shape": {
        "columns": 1,
        "rows": 8
       }
      },
      "text/plain": [
       "count    6.000000\n",
       "mean    -0.981441\n",
       "std      4.503378\n",
       "min     -7.708506\n",
       "25%     -3.930789\n",
       "50%      1.354894\n",
       "75%      1.696665\n",
       "max      2.992165\n",
       "dtype: float64"
      ]
     },
     "execution_count": 283,
     "metadata": {},
     "output_type": "execute_result"
    }
   ],
   "source": [
    "now = grid.snapshots[0]\n",
    "\n",
    "angle_diff = pd.Series(grid.buses_t.v_ang.loc[now,grid.lines.bus0].values -\n",
    "                       grid.buses_t.v_ang.loc[now,grid.lines.bus1].values,\n",
    "                       index=grid.lines.index)\n",
    "\n",
    "(angle_diff*180/np.pi).describe()"
   ]
  }
 ],
 "metadata": {
  "kernelspec": {
   "display_name": "UCB_ER254",
   "language": "python",
   "name": "python3"
  },
  "language_info": {
   "codemirror_mode": {
    "name": "ipython",
    "version": 3
   },
   "file_extension": ".py",
   "mimetype": "text/x-python",
   "name": "python",
   "nbconvert_exporter": "python",
   "pygments_lexer": "ipython3",
   "version": "3.11.11"
  }
 },
 "nbformat": 4,
 "nbformat_minor": 2
}
